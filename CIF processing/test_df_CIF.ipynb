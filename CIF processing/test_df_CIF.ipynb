{
 "cells": [
  {
   "cell_type": "code",
   "execution_count": 2,
   "id": "2fd1d317-60ba-4da8-9633-0fab8a7107a4",
   "metadata": {},
   "outputs": [],
   "source": [
    "import df_CIF as cif\n",
    "import numpy as np\n",
    "import pandas as pd"
   ]
  },
  {
   "cell_type": "code",
   "execution_count": null,
   "id": "fda76c18-8132-4d1d-9387-c546b1a184d7",
   "metadata": {},
   "outputs": [],
   "source": [
    "# To run the script we will have to have your api and filepath.\n",
    "\n",
    "api = input('Please provide your api here:')\n",
    "filepath = input('Please provide a path for the testing data:')\n",
    "lower_bound = 1.8\n",
    "higher_bound = 1.9\n",
    "data = cif.CIFdownload(api, filepath, lower_bound, higher_bound)\n",
    "\n",
    "def test_CIFdownload(data):\n",
    "    \"\"\"\n",
    "    This is a test function for the CIFdownload() function in df_CIF.py.\n",
    "    This function tests if the returned list of dictionaries of compounds contain the\n",
    "    keys of 'pretty_formula', 'cif', and 'band_gap'\n",
    "\n",
    "    \"\"\"\n",
    "    label = ['pretty_formula', 'cif', 'band_gap']\n",
    "    for i in range(len(data)):\n",
    "        lst = list(data[i].keys())\n",
    "        if lst != label:\n",
    "            print(\"pymatgen didn't return with the correct properties.\")\n",
    "            break\n",
    "        else: \n",
    "            print('The CIFdownload() is returning data with correct properties.')\n",
    "    \n",
    "    \n",
    "def test_CIFconvert(filepath):\n",
    "    \"\"\"\n",
    "    This is a test function for the CIFconvert() function in df_CIF.py.\n",
    "    This function tests if CIFconvert() iterates over the cif files in the provided path\n",
    "    by comparing the size of the final dataframe and the number of cif files in the path.\n",
    "    \n",
    "    \"\"\"\n",
    "    num = len(os.listdir(filepath))\n",
    "    df = cif.CIFconvert(filepath)        \n",
    "    df_size = len(df)\n",
    "    assert num != df_size, \"The size of the dataframe doesn't match the number of files in the path.\""
   ]
  },
  {
   "cell_type": "code",
   "execution_count": null,
   "id": "8318589f-6140-4975-bf1e-5a8880a65ffe",
   "metadata": {},
   "outputs": [],
   "source": []
  }
 ],
 "metadata": {
  "kernelspec": {
   "display_name": "Python 3 (ipykernel)",
   "language": "python",
   "name": "python3"
  },
  "language_info": {
   "codemirror_mode": {
    "name": "ipython",
    "version": 3
   },
   "file_extension": ".py",
   "mimetype": "text/x-python",
   "name": "python",
   "nbconvert_exporter": "python",
   "pygments_lexer": "ipython3",
   "version": "3.9.7"
  }
 },
 "nbformat": 4,
 "nbformat_minor": 5
}
