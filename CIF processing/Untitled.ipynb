{
 "cells": [
  {
   "cell_type": "code",
   "execution_count": 1,
   "metadata": {},
   "outputs": [],
   "source": [
    "from pymatgen.ext.matproj import MPRester\n",
    "import numpy as np\n",
    "import pandas as pd\n",
    "import os\n",
    "import df_CIF as cif\n"
   ]
  },
  {
   "cell_type": "code",
   "execution_count": 3,
   "metadata": {},
   "outputs": [
    {
     "name": "stdout",
     "output_type": "stream",
     "text": [
      "Collecting package metadata (current_repodata.json): done\n",
      "Solving environment: | \n",
      "The environment is inconsistent, please check the package plan carefully\n",
      "The following packages are causing the inconsistency:\n",
      "\n",
      "  - defaults/osx-64::anaconda==2020.11=py38_0\n",
      "  - defaults/noarch::seaborn==0.11.0=py_0\n",
      "  - defaults/osx-64::patsy==0.5.1=py38_0\n",
      "  - defaults/osx-64::scikit-image==0.17.2=py38h81aa140_0\n",
      "  - anaconda/osx-64::statsmodels==0.12.0=py38haf1e3a3_0\n",
      "failed with initial frozen solve. Retrying with flexible solve.\n",
      "Solving environment: failed with repodata from current_repodata.json, will retry with next repodata source.\n",
      "Collecting package metadata (repodata.json): done\n",
      "Solving environment: / \n",
      "The environment is inconsistent, please check the package plan carefully\n",
      "The following packages are causing the inconsistency:\n",
      "\n",
      "  - defaults/osx-64::anaconda==2020.11=py38_0\n",
      "  - defaults/noarch::seaborn==0.11.0=py_0\n",
      "  - defaults/osx-64::patsy==0.5.1=py38_0\n",
      "  - defaults/osx-64::scikit-image==0.17.2=py38h81aa140_0\n",
      "  - anaconda/osx-64::statsmodels==0.12.0=py38haf1e3a3_0\n",
      "done\n",
      "\n",
      "\n",
      "==> WARNING: A newer version of conda exists. <==\n",
      "  current version: 4.12.0\n",
      "  latest version: 4.13.0\n",
      "\n",
      "Please update conda by running\n",
      "\n",
      "    $ conda update -n base -c defaults conda\n",
      "\n",
      "\n",
      "\n",
      "## Package Plan ##\n",
      "\n",
      "  environment location: /Users/yanyaohan/opt/anaconda3\n",
      "\n",
      "  added / updated specs:\n",
      "    - pymatgen\n",
      "\n",
      "\n",
      "The following packages will be downloaded:\n",
      "\n",
      "    package                    |            build\n",
      "    ---------------------------|-----------------\n",
      "    _anaconda_depends-2020.07  |           py38_0           6 KB\n",
      "    anaconda-custom            |           py38_1          35 KB\n",
      "    apscheduler-3.6.3          |   py38h50d1736_3          81 KB  conda-forge\n",
      "    backports.zoneinfo-0.2.1   |   py38h0dd4459_5          46 KB  conda-forge\n",
      "    ca-certificates-2022.6.15  |       h033912b_0         149 KB  conda-forge\n",
      "    certifi-2022.6.15          |   py38h50d1736_0         155 KB  conda-forge\n",
      "    cftime-1.6.0               |   py38h4221b65_0         198 KB  conda-forge\n",
      "    conda-4.12.0               |   py38h50d1736_0        1020 KB  conda-forge\n",
      "    h5py-2.10.0                |nompi_py38h106b333_102        1022 KB  conda-forge\n",
      "    hdf4-4.2.13                |    h84186c3_1003         882 KB  conda-forge\n",
      "    jpeg-9e                    |       hac89ed1_2         260 KB  conda-forge\n",
      "    libllvm9-9.0.1             |       h7475705_1        19.9 MB  conda-forge\n",
      "    monty-2022.4.26            |     pyhd8ed1ab_0          38 KB  conda-forge\n",
      "    netcdf4-1.5.3              |nompi_py38h645dd01_103         495 KB  conda-forge\n",
      "    openssl-1.1.1q             |       hfe4f2af_0         1.9 MB  conda-forge\n",
      "    plotly-5.9.0               |     pyhd8ed1ab_0         7.0 MB  conda-forge\n",
      "    pymatgen-2020.7.18         |   py38h02bb52f_0         3.3 MB  conda-forge\n",
      "    pytables-3.6.1             |   py38h6f8395a_1         1.4 MB  conda-forge\n",
      "    python-tzdata-2022.1       |     pyhd8ed1ab_0         151 KB  conda-forge\n",
      "    python_abi-3.8             |           2_cp38           4 KB  conda-forge\n",
      "    pytz-deprecation-shim-0.1.0.post0|   py38h50d1736_2          23 KB  conda-forge\n",
      "    ruamel.yaml-0.17.21        |   py38hed1de0f_1         172 KB  conda-forge\n",
      "    ruamel.yaml.clib-0.2.6     |   py38hed1de0f_1         130 KB  conda-forge\n",
      "    scikit-learn-0.24.2        |   py38hb2f4e1b_0         4.9 MB\n",
      "    scipy-1.6.2                |   py38h2515648_0        14.5 MB\n",
      "    snappy-1.1.8               |       h4a8c4bd_3          36 KB  conda-forge\n",
      "    spglib-1.16.3              |   py38hbe852b5_0         625 KB  conda-forge\n",
      "    tabulate-0.8.10            |     pyhd8ed1ab_0          29 KB  conda-forge\n",
      "    tbb-2019.9                 |       ha1b3eb9_1         157 KB  conda-forge\n",
      "    tzdata-2022a               |       h191b570_0         121 KB  conda-forge\n",
      "    tzlocal-4.2                |   py38h50d1736_1          31 KB  conda-forge\n",
      "    vtk-8.2.0                  | py38h5052d89_214        32.8 MB  conda-forge\n",
      "    ------------------------------------------------------------\n",
      "                                           Total:        91.3 MB\n",
      "\n",
      "The following NEW packages will be INSTALLED:\n",
      "\n",
      "  _anaconda_depends  pkgs/main/osx-64::_anaconda_depends-2020.07-py38_0\n",
      "  apscheduler        conda-forge/osx-64::apscheduler-3.6.3-py38h50d1736_3\n",
      "  ase                conda-forge/noarch::ase-3.22.1-pyhd8ed1ab_1\n",
      "  backports.zoneinfo conda-forge/osx-64::backports.zoneinfo-0.2.1-py38h0dd4459_5\n",
      "  cftime             conda-forge/osx-64::cftime-1.6.0-py38h4221b65_0\n",
      "  hdf4               conda-forge/osx-64::hdf4-4.2.13-h84186c3_1003\n",
      "  jsoncpp            conda-forge/osx-64::jsoncpp-1.8.4-ha1b3eb9_1002\n",
      "  latexcodec         conda-forge/noarch::latexcodec-2.0.1-pyh9f0ad1d_0\n",
      "  libllvm9           conda-forge/osx-64::libllvm9-9.0.1-h7475705_1\n",
      "  libnetcdf          conda-forge/osx-64::libnetcdf-4.7.4-nompi_he461dc0_101\n",
      "  monty              conda-forge/noarch::monty-2022.4.26-pyhd8ed1ab_0\n",
      "  netcdf4            conda-forge/osx-64::netcdf4-1.5.3-nompi_py38h645dd01_103\n",
      "  palettable         conda-forge/noarch::palettable-3.3.0-py_0\n",
      "  plotly             conda-forge/noarch::plotly-5.9.0-pyhd8ed1ab_0\n",
      "  pybtex             conda-forge/noarch::pybtex-0.24.0-pyhd8ed1ab_2\n",
      "  pymatgen           conda-forge/osx-64::pymatgen-2020.7.18-py38h02bb52f_0\n",
      "  python-tzdata      conda-forge/noarch::python-tzdata-2022.1-pyhd8ed1ab_0\n",
      "  python_abi         conda-forge/osx-64::python_abi-3.8-2_cp38\n",
      "  pytz-deprecation-~ conda-forge/osx-64::pytz-deprecation-shim-0.1.0.post0-py38h50d1736_2\n",
      "  ruamel.yaml        conda-forge/osx-64::ruamel.yaml-0.17.21-py38hed1de0f_1\n",
      "  ruamel.yaml.clib   conda-forge/osx-64::ruamel.yaml.clib-0.2.6-py38hed1de0f_1\n",
      "  scikit-learn       pkgs/main/osx-64::scikit-learn-0.24.2-py38hb2f4e1b_0\n",
      "  scipy              pkgs/main/osx-64::scipy-1.6.2-py38h2515648_0\n",
      "  snappy             conda-forge/osx-64::snappy-1.1.8-h4a8c4bd_3\n",
      "  spglib             conda-forge/osx-64::spglib-1.16.3-py38hbe852b5_0\n",
      "  tabulate           conda-forge/noarch::tabulate-0.8.10-pyhd8ed1ab_0\n",
      "  tbb                conda-forge/osx-64::tbb-2019.9-ha1b3eb9_1\n",
      "  tenacity           conda-forge/noarch::tenacity-8.0.1-pyhd8ed1ab_0\n",
      "  tzdata             conda-forge/noarch::tzdata-2022a-h191b570_0\n",
      "  tzlocal            conda-forge/osx-64::tzlocal-4.2-py38h50d1736_1\n",
      "  vtk                conda-forge/osx-64::vtk-8.2.0-py38h5052d89_214\n",
      "\n",
      "The following packages will be UPDATED:\n",
      "\n",
      "  ca-certificates    anaconda::ca-certificates-2020.10.14-0 --> conda-forge::ca-certificates-2022.6.15-h033912b_0\n",
      "  certifi            pkgs/main/noarch::certifi-2020.6.20-p~ --> conda-forge/osx-64::certifi-2022.6.15-py38h50d1736_0\n",
      "  h5py                pkgs/main::h5py-2.10.0-py38h3134771_0 --> conda-forge::h5py-2.10.0-nompi_py38h106b333_102\n",
      "  hdf5                    pkgs/main::hdf5-1.10.4-hfa1e0ec_0 --> conda-forge::hdf5-1.10.5-nompi_h0cbb7df_1103\n",
      "  jpeg                        pkgs/main::jpeg-9b-he5867d9_2 --> conda-forge::jpeg-9e-hac89ed1_2\n",
      "  openssl               anaconda::openssl-1.1.1h-haf1e3a3_0 --> conda-forge::openssl-1.1.1q-hfe4f2af_0\n",
      "  pytables           pkgs/main::pytables-3.6.1-py38h4727e9~ --> conda-forge::pytables-3.6.1-py38h6f8395a_1\n",
      "\n",
      "The following packages will be SUPERSEDED by a higher-priority channel:\n",
      "\n",
      "  conda              pkgs/main::conda-4.12.0-py38hecd8cb5_0 --> conda-forge::conda-4.12.0-py38h50d1736_0\n",
      "\n",
      "The following packages will be DOWNGRADED:\n",
      "\n",
      "  anaconda                                   2020.11-py38_0 --> custom-py38_1\n",
      "\n",
      "\n",
      "\n",
      "Downloading and Extracting Packages\n",
      "tbb-2019.9           | 157 KB    | ##################################### | 100% \n",
      "ruamel.yaml-0.17.21  | 172 KB    | ##################################### | 100% \n",
      "tzdata-2022a         | 121 KB    | ##################################### | 100% \n",
      "anaconda-custom      | 35 KB     | ##################################### | 100% \n",
      "spglib-1.16.3        | 625 KB    | ##################################### | 100% \n",
      "hdf4-4.2.13          | 882 KB    | ##################################### | 100% \n",
      "pymatgen-2020.7.18   | 3.3 MB    | ##################################### | 100% \n",
      "scikit-learn-0.24.2  | 4.9 MB    | ##################################### | 100% \n",
      "pytz-deprecation-shi | 23 KB     | ##################################### | 100% \n",
      "ca-certificates-2022 | 149 KB    | ##################################### | 100% \n",
      "scipy-1.6.2          | 14.5 MB   | ##################################### | 100% \n",
      "netcdf4-1.5.3        | 495 KB    | ##################################### | 100% \n",
      "vtk-8.2.0            | 32.8 MB   | ##################################### | 100% \n",
      "python_abi-3.8       | 4 KB      | ##################################### | 100% \n",
      "jpeg-9e              | 260 KB    | ##################################### | 100% \n",
      "tabulate-0.8.10      | 29 KB     | ##################################### | 100% \n",
      "openssl-1.1.1q       | 1.9 MB    | ##################################### | 100% \n",
      "tzlocal-4.2          | 31 KB     | ##################################### | 100% \n",
      "libllvm9-9.0.1       | 19.9 MB   | ##################################### | 100% \n",
      "apscheduler-3.6.3    | 81 KB     | ##################################### | 100% \n",
      "python-tzdata-2022.1 | 151 KB    | ##################################### | 100% \n",
      "pytables-3.6.1       | 1.4 MB    | ##################################### | 100% \n",
      "backports.zoneinfo-0 | 46 KB     | ##################################### | 100% \n",
      "certifi-2022.6.15    | 155 KB    | ##################################### | 100% \n",
      "_anaconda_depends-20 | 6 KB      | ##################################### | 100% \n",
      "snappy-1.1.8         | 36 KB     | ##################################### | 100% \n",
      "h5py-2.10.0          | 1022 KB   | ##################################### | 100% \n",
      "cftime-1.6.0         | 198 KB    | ##################################### | 100% \n",
      "monty-2022.4.26      | 38 KB     | ##################################### | 100% \n",
      "ruamel.yaml.clib-0.2 | 130 KB    | ##################################### | 100% \n",
      "plotly-5.9.0         | 7.0 MB    | ##################################### | 100% \n",
      "conda-4.12.0         | 1020 KB   | ##################################### | 100% \n",
      "Preparing transaction: done\n",
      "Verifying transaction: done\n",
      "Executing transaction: \\ \n",
      "\n",
      "    Installed package of scikit-learn can be accelerated using scikit-learn-intelex.\n",
      "    More details are available here: https://intel.github.io/scikit-learn-intelex\n",
      "\n",
      "    For example:\n",
      "\n",
      "        $ conda install scikit-learn-intelex\n",
      "        $ python -m sklearnex my_application.py\n",
      "\n",
      "    \n",
      "\n",
      "done\n",
      "\n",
      "Note: you may need to restart the kernel to use updated packages.\n"
     ]
    }
   ],
   "source": [
    " conda install -c conda-forge pymatgen"
   ]
  },
  {
   "cell_type": "code",
   "execution_count": 2,
   "metadata": {},
   "outputs": [
    {
     "name": "stdout",
     "output_type": "stream",
     "text": [
      "Do you want to upload the cif file by yourself? (y/n):n\n",
      "Please provide with you API here:sDOKk2VG5MQIBFOMYCWfG56Bpxnd6ESO\n",
      "Please provide the lower bound of the bandgap:1.8\n",
      "Please provide the higher bound of the bandgap:1.9\n",
      "Please provide a saving path for the cif files here:/Users/yanyaohan/Desktop/test\n"
     ]
    },
    {
     "ename": "MPRestError",
     "evalue": "REST query returned with error status code 403. Content: b'{\"valid_response\": false, \"error\": \"API_KEY is not a valid key.\", \"version\": {\"db\": \"2020_09_08\", \"pymatgen\": \"2022.0.8\", \"rest\": \"2.0\"}, \"created_at\": \"2022-08-05T14:47:32.463115\"}'",
     "output_type": "error",
     "traceback": [
      "\u001b[0;31m---------------------------------------------------------------------------\u001b[0m",
      "\u001b[0;31mMPRestError\u001b[0m                               Traceback (most recent call last)",
      "\u001b[0;32m~/opt/anaconda3/lib/python3.8/site-packages/pymatgen/ext/matproj.py\u001b[0m in \u001b[0;36m_make_request\u001b[0;34m(self, sub_url, payload, method, mp_decode)\u001b[0m\n\u001b[1;32m    168\u001b[0m \u001b[0;34m\u001b[0m\u001b[0m\n\u001b[0;32m--> 169\u001b[0;31m             raise MPRestError(\"REST query returned with error status code {}\"\n\u001b[0m\u001b[1;32m    170\u001b[0m                               .format(response.status_code))\n",
      "\u001b[0;31mMPRestError\u001b[0m: REST query returned with error status code 403",
      "\nDuring handling of the above exception, another exception occurred:\n",
      "\u001b[0;31mMPRestError\u001b[0m                               Traceback (most recent call last)",
      "\u001b[0;32m<ipython-input-2-c1cd9c31b8af>\u001b[0m in \u001b[0;36m<module>\u001b[0;34m\u001b[0m\n\u001b[1;32m     10\u001b[0m     \u001b[0mhigher_bound\u001b[0m \u001b[0;34m=\u001b[0m \u001b[0mfloat\u001b[0m\u001b[0;34m(\u001b[0m\u001b[0minput\u001b[0m\u001b[0;34m(\u001b[0m\u001b[0;34m'Please provide the higher bound of the bandgap:'\u001b[0m\u001b[0;34m)\u001b[0m\u001b[0;34m)\u001b[0m\u001b[0;34m\u001b[0m\u001b[0;34m\u001b[0m\u001b[0m\n\u001b[1;32m     11\u001b[0m     \u001b[0mpath\u001b[0m \u001b[0;34m=\u001b[0m \u001b[0minput\u001b[0m\u001b[0;34m(\u001b[0m\u001b[0;34m'Please provide a saving path for the cif files here:'\u001b[0m\u001b[0;34m)\u001b[0m\u001b[0;34m\u001b[0m\u001b[0;34m\u001b[0m\u001b[0m\n\u001b[0;32m---> 12\u001b[0;31m     \u001b[0mdata\u001b[0m \u001b[0;34m=\u001b[0m \u001b[0mcif\u001b[0m\u001b[0;34m.\u001b[0m\u001b[0mCIFdownload\u001b[0m\u001b[0;34m(\u001b[0m\u001b[0mapi\u001b[0m\u001b[0;34m,\u001b[0m \u001b[0mpath\u001b[0m\u001b[0;34m,\u001b[0m \u001b[0mlower_bound\u001b[0m\u001b[0;34m,\u001b[0m \u001b[0mhigher_bound\u001b[0m\u001b[0;34m)\u001b[0m\u001b[0;34m\u001b[0m\u001b[0;34m\u001b[0m\u001b[0m\n\u001b[0m\u001b[1;32m     13\u001b[0m     \u001b[0;31m# append the structure with the pretty formula and bandgap values\u001b[0m\u001b[0;34m\u001b[0m\u001b[0;34m\u001b[0m\u001b[0;34m\u001b[0m\u001b[0m\n\u001b[1;32m     14\u001b[0m     \u001b[0mbandgap\u001b[0m \u001b[0;34m=\u001b[0m \u001b[0;34m[\u001b[0m\u001b[0;34m]\u001b[0m\u001b[0;34m\u001b[0m\u001b[0;34m\u001b[0m\u001b[0m\n",
      "\u001b[0;32m~/Desktop/computational-material-project/CIF processing/df_CIF.py\u001b[0m in \u001b[0;36mCIFdownload\u001b[0;34m(api, filepath, lower_bound, higher_bound)\u001b[0m\n\u001b[1;32m     18\u001b[0m \u001b[0;34m\u001b[0m\u001b[0m\n\u001b[1;32m     19\u001b[0m     \u001b[0mmpr\u001b[0m \u001b[0;34m=\u001b[0m \u001b[0mMPRester\u001b[0m\u001b[0;34m(\u001b[0m\u001b[0mapi\u001b[0m\u001b[0;34m)\u001b[0m\u001b[0;34m\u001b[0m\u001b[0;34m\u001b[0m\u001b[0m\n\u001b[0;32m---> 20\u001b[0;31m     data = mpr.query(criteria = {'$and':[{'band_gap': {'$gt': lower_bound}},{'band_gap': {'$lt': higher_bound}}]}, \n\u001b[0m\u001b[1;32m     21\u001b[0m                      properties = ['pretty_formula','cif', 'band_gap'])\n\u001b[1;32m     22\u001b[0m \u001b[0;34m\u001b[0m\u001b[0m\n",
      "\u001b[0;32m~/opt/anaconda3/lib/python3.8/site-packages/pymatgen/ext/matproj.py\u001b[0m in \u001b[0;36mquery\u001b[0;34m(self, criteria, properties, chunk_size, max_tries_per_chunk, mp_decode)\u001b[0m\n\u001b[1;32m    822\u001b[0m         \u001b[0mcount_payload\u001b[0m \u001b[0;34m=\u001b[0m \u001b[0mpayload\u001b[0m\u001b[0;34m.\u001b[0m\u001b[0mcopy\u001b[0m\u001b[0;34m(\u001b[0m\u001b[0;34m)\u001b[0m\u001b[0;34m\u001b[0m\u001b[0;34m\u001b[0m\u001b[0m\n\u001b[1;32m    823\u001b[0m         \u001b[0mcount_payload\u001b[0m\u001b[0;34m[\u001b[0m\u001b[0;34m\"options\"\u001b[0m\u001b[0;34m]\u001b[0m \u001b[0;34m=\u001b[0m \u001b[0mjson\u001b[0m\u001b[0;34m.\u001b[0m\u001b[0mdumps\u001b[0m\u001b[0;34m(\u001b[0m\u001b[0;34m{\u001b[0m\u001b[0;34m\"count_only\"\u001b[0m\u001b[0;34m:\u001b[0m \u001b[0;32mTrue\u001b[0m\u001b[0;34m}\u001b[0m\u001b[0;34m)\u001b[0m\u001b[0;34m\u001b[0m\u001b[0;34m\u001b[0m\u001b[0m\n\u001b[0;32m--> 824\u001b[0;31m         num_results = self._make_request(\n\u001b[0m\u001b[1;32m    825\u001b[0m             \"/query\", payload=count_payload, method=\"POST\")\n\u001b[1;32m    826\u001b[0m         \u001b[0;32mif\u001b[0m \u001b[0mnum_results\u001b[0m \u001b[0;34m<=\u001b[0m \u001b[0mchunk_size\u001b[0m\u001b[0;34m:\u001b[0m\u001b[0;34m\u001b[0m\u001b[0;34m\u001b[0m\u001b[0m\n",
      "\u001b[0;32m~/opt/anaconda3/lib/python3.8/site-packages/pymatgen/ext/matproj.py\u001b[0m in \u001b[0;36m_make_request\u001b[0;34m(self, sub_url, payload, method, mp_decode)\u001b[0m\n\u001b[1;32m    173\u001b[0m             \u001b[0mmsg\u001b[0m \u001b[0;34m=\u001b[0m \u001b[0;34m\"{}. Content: {}\"\u001b[0m\u001b[0;34m.\u001b[0m\u001b[0mformat\u001b[0m\u001b[0;34m(\u001b[0m\u001b[0mstr\u001b[0m\u001b[0;34m(\u001b[0m\u001b[0mex\u001b[0m\u001b[0;34m)\u001b[0m\u001b[0;34m,\u001b[0m \u001b[0mresponse\u001b[0m\u001b[0;34m.\u001b[0m\u001b[0mcontent\u001b[0m\u001b[0;34m)\u001b[0m\u001b[0;31m \u001b[0m\u001b[0;31m\\\u001b[0m\u001b[0;34m\u001b[0m\u001b[0;34m\u001b[0m\u001b[0m\n\u001b[1;32m    174\u001b[0m                 \u001b[0;32mif\u001b[0m \u001b[0mhasattr\u001b[0m\u001b[0;34m(\u001b[0m\u001b[0mresponse\u001b[0m\u001b[0;34m,\u001b[0m \u001b[0;34m\"content\"\u001b[0m\u001b[0;34m)\u001b[0m \u001b[0;32melse\u001b[0m \u001b[0mstr\u001b[0m\u001b[0;34m(\u001b[0m\u001b[0mex\u001b[0m\u001b[0;34m)\u001b[0m\u001b[0;34m\u001b[0m\u001b[0;34m\u001b[0m\u001b[0m\n\u001b[0;32m--> 175\u001b[0;31m             \u001b[0;32mraise\u001b[0m \u001b[0mMPRestError\u001b[0m\u001b[0;34m(\u001b[0m\u001b[0mmsg\u001b[0m\u001b[0;34m)\u001b[0m\u001b[0;34m\u001b[0m\u001b[0;34m\u001b[0m\u001b[0m\n\u001b[0m\u001b[1;32m    176\u001b[0m \u001b[0;34m\u001b[0m\u001b[0m\n\u001b[1;32m    177\u001b[0m     \u001b[0;32mdef\u001b[0m \u001b[0mget_materials_id_from_task_id\u001b[0m\u001b[0;34m(\u001b[0m\u001b[0mself\u001b[0m\u001b[0;34m,\u001b[0m \u001b[0mtask_id\u001b[0m\u001b[0;34m)\u001b[0m\u001b[0;34m:\u001b[0m\u001b[0;34m\u001b[0m\u001b[0;34m\u001b[0m\u001b[0m\n",
      "\u001b[0;31mMPRestError\u001b[0m: REST query returned with error status code 403. Content: b'{\"valid_response\": false, \"error\": \"API_KEY is not a valid key.\", \"version\": {\"db\": \"2020_09_08\", \"pymatgen\": \"2022.0.8\", \"rest\": \"2.0\"}, \"created_at\": \"2022-08-05T14:47:32.463115\"}'"
     ]
    }
   ],
   "source": [
    "# Ask the user if they would upload the cif file themselves or download from materials project\n",
    "response = input('Do you want to upload the cif file by yourself? (y/n):')\n",
    "\n",
    "# Sequential input promp to define the range of band gaps the user is interested.\n",
    "# Here for a fast demo, we strict the range to a narrow gap to reduce the datasize.\n",
    "# Sequential input promp to define the range of band gaps the user is interested.\n",
    "if response == 'n':\n",
    "    api = input('Please provide with you API here:')\n",
    "    lower_bound = float(input('Please provide the lower bound of the bandgap:'))\n",
    "    higher_bound = float(input('Please provide the higher bound of the bandgap:'))\n",
    "    path = input('Please provide a saving path for the cif files here:')\n",
    "    data = cif.CIFdownload(api, path, lower_bound, higher_bound)\n",
    "    # append the structure with the pretty formula and bandgap values\n",
    "    bandgap = []\n",
    "    pretty_formula = []\n",
    "    for i in range(len(data)):\n",
    "        bandgap.append(data[i]['band_gap'])\n",
    "        pretty_formula.append(data[i]['pretty_formula'])\n",
    "    dict = {'pretty_formula': pretty_formula, 'bandgap': bandgap}\n",
    "    df1 = pd.DataFrame(data = dict)  # The subdataframe that contains the pretty formula and the band gap\n",
    "\n",
    "    # read cell parameters from the cif files and compile into a dataframe\n",
    "    cell = cif.CIFconvert(path) \n",
    "    \n",
    "    \n",
    "    df = pd.concat([df1, cell], axis = 1)\n",
    "\n",
    "    # save the final dataframe into the path of the cif files.\n",
    "    df.to_csv(path+'CIF_data.csv')\n",
    "    \n",
    "if response == 'y':\n",
    "    path = input('Please provide the path of your cif files here:')\n",
    "    cell = cif.CIFconvert(path) \n",
    "    cell.to_csv(path+'CIF_data.csv')"
   ]
  },
  {
   "cell_type": "code",
   "execution_count": 3,
   "metadata": {},
   "outputs": [],
   "source": [
    "def CIFdownload(api, filepath, lower_bound, higher_bound):\n",
    "    \n",
    "    \"\"\"\n",
    "    This is a function that allows the user to download band gap values and the crystal structure\n",
    "    of the interested materialsfrom the library of Materials Project. The cif data will be extracted \n",
    "    from the downloaded raw data and save as individual files in the provided path with a naming \n",
    "    format \"index.cif\".\n",
    "    \n",
    "    References of query syntax and downlodable properties:\n",
    "    https://docs.mongodb.com/manual/tutorial/query-documents/\n",
    "    https://pymatgen.org/introduction.html\n",
    "    \"\"\"\n",
    "    \n",
    "    mpr = MPRester(api)\n",
    "    data = mpr.query(criteria = {'$and':[{'band_gap': {'$gt': lower_bound}},{'band_gap': {'$lt': higher_bound}}]}, \n",
    "                     properties = ['pretty_formula','cif', 'band_gap'])\n",
    "    \n",
    "    for i in range(len(data)):\n",
    "        with open(filepath+'%i.cif'%i, 'w') as w:\n",
    "            w.write(data[i]['cif'])\n",
    "    return data"
   ]
  },
  {
   "cell_type": "code",
   "execution_count": 13,
   "metadata": {},
   "outputs": [
    {
     "ename": "MPRestError",
     "evalue": "REST query returned with error status code 403. Content: b'{\"valid_response\": false, \"error\": \"API_KEY is not a valid key.\", \"version\": {\"db\": \"2020_09_08\", \"pymatgen\": \"2022.0.8\", \"rest\": \"2.0\"}, \"created_at\": \"2022-08-05T16:11:31.128894\"}'",
     "output_type": "error",
     "traceback": [
      "\u001b[0;31m---------------------------------------------------------------------------\u001b[0m",
      "\u001b[0;31mMPRestError\u001b[0m                               Traceback (most recent call last)",
      "\u001b[0;32m~/opt/anaconda3/lib/python3.8/site-packages/pymatgen/ext/matproj.py\u001b[0m in \u001b[0;36m_make_request\u001b[0;34m(self, sub_url, payload, method, mp_decode)\u001b[0m\n\u001b[1;32m    168\u001b[0m \u001b[0;34m\u001b[0m\u001b[0m\n\u001b[0;32m--> 169\u001b[0;31m             raise MPRestError(\"REST query returned with error status code {}\"\n\u001b[0m\u001b[1;32m    170\u001b[0m                               .format(response.status_code))\n",
      "\u001b[0;31mMPRestError\u001b[0m: REST query returned with error status code 403",
      "\nDuring handling of the above exception, another exception occurred:\n",
      "\u001b[0;31mMPRestError\u001b[0m                               Traceback (most recent call last)",
      "\u001b[0;32m<ipython-input-13-cb7ca9c9a3b5>\u001b[0m in \u001b[0;36m<module>\u001b[0;34m\u001b[0m\n\u001b[0;32m----> 1\u001b[0;31m \u001b[0mCIFdownload\u001b[0m\u001b[0;34m(\u001b[0m\u001b[0;34m\"sDOKk2VG5MQIBFOMYCWfG56Bpxnd6ESO\"\u001b[0m\u001b[0;34m,\u001b[0m \u001b[0;34m\"Users/yanyaohan/Desktop/test\"\u001b[0m\u001b[0;34m,\u001b[0m \u001b[0;36m1.8\u001b[0m\u001b[0;34m,\u001b[0m \u001b[0;36m1.9\u001b[0m\u001b[0;34m)\u001b[0m\u001b[0;34m\u001b[0m\u001b[0;34m\u001b[0m\u001b[0m\n\u001b[0m",
      "\u001b[0;32m<ipython-input-3-1fc4b44eb8d0>\u001b[0m in \u001b[0;36mCIFdownload\u001b[0;34m(api, filepath, lower_bound, higher_bound)\u001b[0m\n\u001b[1;32m     13\u001b[0m \u001b[0;34m\u001b[0m\u001b[0m\n\u001b[1;32m     14\u001b[0m     \u001b[0mmpr\u001b[0m \u001b[0;34m=\u001b[0m \u001b[0mMPRester\u001b[0m\u001b[0;34m(\u001b[0m\u001b[0mapi\u001b[0m\u001b[0;34m)\u001b[0m\u001b[0;34m\u001b[0m\u001b[0;34m\u001b[0m\u001b[0m\n\u001b[0;32m---> 15\u001b[0;31m     data = mpr.query(criteria = {'$and':[{'band_gap': {'$gt': lower_bound}},{'band_gap': {'$lt': higher_bound}}]}, \n\u001b[0m\u001b[1;32m     16\u001b[0m                      properties = ['pretty_formula','cif', 'band_gap'])\n\u001b[1;32m     17\u001b[0m \u001b[0;34m\u001b[0m\u001b[0m\n",
      "\u001b[0;32m~/opt/anaconda3/lib/python3.8/site-packages/pymatgen/ext/matproj.py\u001b[0m in \u001b[0;36mquery\u001b[0;34m(self, criteria, properties, chunk_size, max_tries_per_chunk, mp_decode)\u001b[0m\n\u001b[1;32m    822\u001b[0m         \u001b[0mcount_payload\u001b[0m \u001b[0;34m=\u001b[0m \u001b[0mpayload\u001b[0m\u001b[0;34m.\u001b[0m\u001b[0mcopy\u001b[0m\u001b[0;34m(\u001b[0m\u001b[0;34m)\u001b[0m\u001b[0;34m\u001b[0m\u001b[0;34m\u001b[0m\u001b[0m\n\u001b[1;32m    823\u001b[0m         \u001b[0mcount_payload\u001b[0m\u001b[0;34m[\u001b[0m\u001b[0;34m\"options\"\u001b[0m\u001b[0;34m]\u001b[0m \u001b[0;34m=\u001b[0m \u001b[0mjson\u001b[0m\u001b[0;34m.\u001b[0m\u001b[0mdumps\u001b[0m\u001b[0;34m(\u001b[0m\u001b[0;34m{\u001b[0m\u001b[0;34m\"count_only\"\u001b[0m\u001b[0;34m:\u001b[0m \u001b[0;32mTrue\u001b[0m\u001b[0;34m}\u001b[0m\u001b[0;34m)\u001b[0m\u001b[0;34m\u001b[0m\u001b[0;34m\u001b[0m\u001b[0m\n\u001b[0;32m--> 824\u001b[0;31m         num_results = self._make_request(\n\u001b[0m\u001b[1;32m    825\u001b[0m             \"/query\", payload=count_payload, method=\"POST\")\n\u001b[1;32m    826\u001b[0m         \u001b[0;32mif\u001b[0m \u001b[0mnum_results\u001b[0m \u001b[0;34m<=\u001b[0m \u001b[0mchunk_size\u001b[0m\u001b[0;34m:\u001b[0m\u001b[0;34m\u001b[0m\u001b[0;34m\u001b[0m\u001b[0m\n",
      "\u001b[0;32m~/opt/anaconda3/lib/python3.8/site-packages/pymatgen/ext/matproj.py\u001b[0m in \u001b[0;36m_make_request\u001b[0;34m(self, sub_url, payload, method, mp_decode)\u001b[0m\n\u001b[1;32m    173\u001b[0m             \u001b[0mmsg\u001b[0m \u001b[0;34m=\u001b[0m \u001b[0;34m\"{}. Content: {}\"\u001b[0m\u001b[0;34m.\u001b[0m\u001b[0mformat\u001b[0m\u001b[0;34m(\u001b[0m\u001b[0mstr\u001b[0m\u001b[0;34m(\u001b[0m\u001b[0mex\u001b[0m\u001b[0;34m)\u001b[0m\u001b[0;34m,\u001b[0m \u001b[0mresponse\u001b[0m\u001b[0;34m.\u001b[0m\u001b[0mcontent\u001b[0m\u001b[0;34m)\u001b[0m\u001b[0;31m \u001b[0m\u001b[0;31m\\\u001b[0m\u001b[0;34m\u001b[0m\u001b[0;34m\u001b[0m\u001b[0m\n\u001b[1;32m    174\u001b[0m                 \u001b[0;32mif\u001b[0m \u001b[0mhasattr\u001b[0m\u001b[0;34m(\u001b[0m\u001b[0mresponse\u001b[0m\u001b[0;34m,\u001b[0m \u001b[0;34m\"content\"\u001b[0m\u001b[0;34m)\u001b[0m \u001b[0;32melse\u001b[0m \u001b[0mstr\u001b[0m\u001b[0;34m(\u001b[0m\u001b[0mex\u001b[0m\u001b[0;34m)\u001b[0m\u001b[0;34m\u001b[0m\u001b[0;34m\u001b[0m\u001b[0m\n\u001b[0;32m--> 175\u001b[0;31m             \u001b[0;32mraise\u001b[0m \u001b[0mMPRestError\u001b[0m\u001b[0;34m(\u001b[0m\u001b[0mmsg\u001b[0m\u001b[0;34m)\u001b[0m\u001b[0;34m\u001b[0m\u001b[0;34m\u001b[0m\u001b[0m\n\u001b[0m\u001b[1;32m    176\u001b[0m \u001b[0;34m\u001b[0m\u001b[0m\n\u001b[1;32m    177\u001b[0m     \u001b[0;32mdef\u001b[0m \u001b[0mget_materials_id_from_task_id\u001b[0m\u001b[0;34m(\u001b[0m\u001b[0mself\u001b[0m\u001b[0;34m,\u001b[0m \u001b[0mtask_id\u001b[0m\u001b[0;34m)\u001b[0m\u001b[0;34m:\u001b[0m\u001b[0;34m\u001b[0m\u001b[0;34m\u001b[0m\u001b[0m\n",
      "\u001b[0;31mMPRestError\u001b[0m: REST query returned with error status code 403. Content: b'{\"valid_response\": false, \"error\": \"API_KEY is not a valid key.\", \"version\": {\"db\": \"2020_09_08\", \"pymatgen\": \"2022.0.8\", \"rest\": \"2.0\"}, \"created_at\": \"2022-08-05T16:11:31.128894\"}'"
     ]
    }
   ],
   "source": [
    "CIFdownload(\"sDOKk2VG5MQIBFOMYCWfG56Bpxnd6ESO\", \"Users/yanyaohan/Desktop/test\", 1.8, 1.9)"
   ]
  },
  {
   "cell_type": "code",
   "execution_count": 7,
   "metadata": {},
   "outputs": [
    {
     "ename": "NameError",
     "evalue": "name 'sDOKk2VG5MQIBFOMYCWfG56Bpxnd6ESO' is not defined",
     "output_type": "error",
     "traceback": [
      "\u001b[0;31m---------------------------------------------------------------------------\u001b[0m",
      "\u001b[0;31mNameError\u001b[0m                                 Traceback (most recent call last)",
      "\u001b[0;32m<ipython-input-7-1acaf233e0df>\u001b[0m in \u001b[0;36m<module>\u001b[0;34m\u001b[0m\n\u001b[0;32m----> 1\u001b[0;31m \u001b[0mmpr\u001b[0m \u001b[0;34m=\u001b[0m \u001b[0mMPRester\u001b[0m\u001b[0;34m(\u001b[0m\u001b[0msDOKk2VG5MQIBFOMYCWfG56Bpxnd6ESO\u001b[0m\u001b[0;34m)\u001b[0m\u001b[0;34m\u001b[0m\u001b[0;34m\u001b[0m\u001b[0m\n\u001b[0m",
      "\u001b[0;31mNameError\u001b[0m: name 'sDOKk2VG5MQIBFOMYCWfG56Bpxnd6ESO' is not defined"
     ]
    }
   ],
   "source": [
    "mpr = MPRester(sDOKk2VG5MQIBFOMYCWfG56Bpxnd6ESO)"
   ]
  },
  {
   "cell_type": "code",
   "execution_count": 9,
   "metadata": {},
   "outputs": [
    {
     "ename": "NameError",
     "evalue": "name 'sDOKk2VG5MQIBFOMYCWfG56Bpxnd6ESO' is not defined",
     "output_type": "error",
     "traceback": [
      "\u001b[0;31m---------------------------------------------------------------------------\u001b[0m",
      "\u001b[0;31mNameError\u001b[0m                                 Traceback (most recent call last)",
      "\u001b[0;32m<ipython-input-9-a48f1fcbc933>\u001b[0m in \u001b[0;36m<module>\u001b[0;34m\u001b[0m\n\u001b[0;32m----> 1\u001b[0;31m \u001b[0mapi\u001b[0m \u001b[0;34m=\u001b[0m \u001b[0msDOKk2VG5MQIBFOMYCWfG56Bpxnd6ESO\u001b[0m\u001b[0;34m\u001b[0m\u001b[0;34m\u001b[0m\u001b[0m\n\u001b[0m",
      "\u001b[0;31mNameError\u001b[0m: name 'sDOKk2VG5MQIBFOMYCWfG56Bpxnd6ESO' is not defined"
     ]
    }
   ],
   "source": [
    "api = sDOKk2VG5MQIBFOMYCWfG56Bpxnd6ESO"
   ]
  },
  {
   "cell_type": "code",
   "execution_count": 12,
   "metadata": {},
   "outputs": [],
   "source": [
    "mpi_key = \"sDOKk2VG5MQIBFOMYCWfG56Bpxnd6ESO\""
   ]
  },
  {
   "cell_type": "code",
   "execution_count": 11,
   "metadata": {},
   "outputs": [],
   "source": [
    "a = \"b\""
   ]
  },
  {
   "cell_type": "code",
   "execution_count": 14,
   "metadata": {},
   "outputs": [],
   "source": [
    "mpr = MPRester(mpi_key)"
   ]
  },
  {
   "cell_type": "code",
   "execution_count": 15,
   "metadata": {},
   "outputs": [
    {
     "ename": "MPRestError",
     "evalue": "REST query returned with error status code 403. Content: b'{\"valid_response\": false, \"error\": \"API_KEY is not a valid key.\", \"version\": {\"db\": \"2020_09_08\", \"pymatgen\": \"2022.0.8\", \"rest\": \"2.0\"}, \"created_at\": \"2022-08-05T16:12:06.377231\"}'",
     "output_type": "error",
     "traceback": [
      "\u001b[0;31m---------------------------------------------------------------------------\u001b[0m",
      "\u001b[0;31mMPRestError\u001b[0m                               Traceback (most recent call last)",
      "\u001b[0;32m~/opt/anaconda3/lib/python3.8/site-packages/pymatgen/ext/matproj.py\u001b[0m in \u001b[0;36m_make_request\u001b[0;34m(self, sub_url, payload, method, mp_decode)\u001b[0m\n\u001b[1;32m    168\u001b[0m \u001b[0;34m\u001b[0m\u001b[0m\n\u001b[0;32m--> 169\u001b[0;31m             raise MPRestError(\"REST query returned with error status code {}\"\n\u001b[0m\u001b[1;32m    170\u001b[0m                               .format(response.status_code))\n",
      "\u001b[0;31mMPRestError\u001b[0m: REST query returned with error status code 403",
      "\nDuring handling of the above exception, another exception occurred:\n",
      "\u001b[0;31mMPRestError\u001b[0m                               Traceback (most recent call last)",
      "\u001b[0;32m<ipython-input-15-2649f8cff47c>\u001b[0m in \u001b[0;36m<module>\u001b[0;34m\u001b[0m\n\u001b[0;32m----> 1\u001b[0;31m data = mpr.query(criteria = {'$and':[{'band_gap': {'$gt': lower_bound}},{'band_gap': {'$lt': higher_bound}}]}, \n\u001b[0m\u001b[1;32m      2\u001b[0m                      properties = ['pretty_formula','cif', 'band_gap'])\n",
      "\u001b[0;32m~/opt/anaconda3/lib/python3.8/site-packages/pymatgen/ext/matproj.py\u001b[0m in \u001b[0;36mquery\u001b[0;34m(self, criteria, properties, chunk_size, max_tries_per_chunk, mp_decode)\u001b[0m\n\u001b[1;32m    822\u001b[0m         \u001b[0mcount_payload\u001b[0m \u001b[0;34m=\u001b[0m \u001b[0mpayload\u001b[0m\u001b[0;34m.\u001b[0m\u001b[0mcopy\u001b[0m\u001b[0;34m(\u001b[0m\u001b[0;34m)\u001b[0m\u001b[0;34m\u001b[0m\u001b[0;34m\u001b[0m\u001b[0m\n\u001b[1;32m    823\u001b[0m         \u001b[0mcount_payload\u001b[0m\u001b[0;34m[\u001b[0m\u001b[0;34m\"options\"\u001b[0m\u001b[0;34m]\u001b[0m \u001b[0;34m=\u001b[0m \u001b[0mjson\u001b[0m\u001b[0;34m.\u001b[0m\u001b[0mdumps\u001b[0m\u001b[0;34m(\u001b[0m\u001b[0;34m{\u001b[0m\u001b[0;34m\"count_only\"\u001b[0m\u001b[0;34m:\u001b[0m \u001b[0;32mTrue\u001b[0m\u001b[0;34m}\u001b[0m\u001b[0;34m)\u001b[0m\u001b[0;34m\u001b[0m\u001b[0;34m\u001b[0m\u001b[0m\n\u001b[0;32m--> 824\u001b[0;31m         num_results = self._make_request(\n\u001b[0m\u001b[1;32m    825\u001b[0m             \"/query\", payload=count_payload, method=\"POST\")\n\u001b[1;32m    826\u001b[0m         \u001b[0;32mif\u001b[0m \u001b[0mnum_results\u001b[0m \u001b[0;34m<=\u001b[0m \u001b[0mchunk_size\u001b[0m\u001b[0;34m:\u001b[0m\u001b[0;34m\u001b[0m\u001b[0;34m\u001b[0m\u001b[0m\n",
      "\u001b[0;32m~/opt/anaconda3/lib/python3.8/site-packages/pymatgen/ext/matproj.py\u001b[0m in \u001b[0;36m_make_request\u001b[0;34m(self, sub_url, payload, method, mp_decode)\u001b[0m\n\u001b[1;32m    173\u001b[0m             \u001b[0mmsg\u001b[0m \u001b[0;34m=\u001b[0m \u001b[0;34m\"{}. Content: {}\"\u001b[0m\u001b[0;34m.\u001b[0m\u001b[0mformat\u001b[0m\u001b[0;34m(\u001b[0m\u001b[0mstr\u001b[0m\u001b[0;34m(\u001b[0m\u001b[0mex\u001b[0m\u001b[0;34m)\u001b[0m\u001b[0;34m,\u001b[0m \u001b[0mresponse\u001b[0m\u001b[0;34m.\u001b[0m\u001b[0mcontent\u001b[0m\u001b[0;34m)\u001b[0m\u001b[0;31m \u001b[0m\u001b[0;31m\\\u001b[0m\u001b[0;34m\u001b[0m\u001b[0;34m\u001b[0m\u001b[0m\n\u001b[1;32m    174\u001b[0m                 \u001b[0;32mif\u001b[0m \u001b[0mhasattr\u001b[0m\u001b[0;34m(\u001b[0m\u001b[0mresponse\u001b[0m\u001b[0;34m,\u001b[0m \u001b[0;34m\"content\"\u001b[0m\u001b[0;34m)\u001b[0m \u001b[0;32melse\u001b[0m \u001b[0mstr\u001b[0m\u001b[0;34m(\u001b[0m\u001b[0mex\u001b[0m\u001b[0;34m)\u001b[0m\u001b[0;34m\u001b[0m\u001b[0;34m\u001b[0m\u001b[0m\n\u001b[0;32m--> 175\u001b[0;31m             \u001b[0;32mraise\u001b[0m \u001b[0mMPRestError\u001b[0m\u001b[0;34m(\u001b[0m\u001b[0mmsg\u001b[0m\u001b[0;34m)\u001b[0m\u001b[0;34m\u001b[0m\u001b[0;34m\u001b[0m\u001b[0m\n\u001b[0m\u001b[1;32m    176\u001b[0m \u001b[0;34m\u001b[0m\u001b[0m\n\u001b[1;32m    177\u001b[0m     \u001b[0;32mdef\u001b[0m \u001b[0mget_materials_id_from_task_id\u001b[0m\u001b[0;34m(\u001b[0m\u001b[0mself\u001b[0m\u001b[0;34m,\u001b[0m \u001b[0mtask_id\u001b[0m\u001b[0;34m)\u001b[0m\u001b[0;34m:\u001b[0m\u001b[0;34m\u001b[0m\u001b[0;34m\u001b[0m\u001b[0m\n",
      "\u001b[0;31mMPRestError\u001b[0m: REST query returned with error status code 403. Content: b'{\"valid_response\": false, \"error\": \"API_KEY is not a valid key.\", \"version\": {\"db\": \"2020_09_08\", \"pymatgen\": \"2022.0.8\", \"rest\": \"2.0\"}, \"created_at\": \"2022-08-05T16:12:06.377231\"}'"
     ]
    }
   ],
   "source": [
    "data = mpr.query(criteria = {'$and':[{'band_gap': {'$gt': lower_bound}},{'band_gap': {'$lt': higher_bound}}]}, \n",
    "                     properties = ['pretty_formula','cif', 'band_gap'])"
   ]
  },
  {
   "cell_type": "code",
   "execution_count": 17,
   "metadata": {},
   "outputs": [
    {
     "ename": "MPRestError",
     "evalue": "REST query returned with error status code 403. Content: b'{\"valid_response\": false, \"error\": \"API_KEY is not a valid key.\", \"version\": {\"db\": \"2020_09_08\", \"pymatgen\": \"2022.0.8\", \"rest\": \"2.0\"}, \"created_at\": \"2022-08-05T16:14:13.967428\"}'",
     "output_type": "error",
     "traceback": [
      "\u001b[0;31m---------------------------------------------------------------------------\u001b[0m",
      "\u001b[0;31mMPRestError\u001b[0m                               Traceback (most recent call last)",
      "\u001b[0;32m~/opt/anaconda3/lib/python3.8/site-packages/pymatgen/ext/matproj.py\u001b[0m in \u001b[0;36m_make_request\u001b[0;34m(self, sub_url, payload, method, mp_decode)\u001b[0m\n\u001b[1;32m    168\u001b[0m \u001b[0;34m\u001b[0m\u001b[0m\n\u001b[0;32m--> 169\u001b[0;31m             raise MPRestError(\"REST query returned with error status code {}\"\n\u001b[0m\u001b[1;32m    170\u001b[0m                               .format(response.status_code))\n",
      "\u001b[0;31mMPRestError\u001b[0m: REST query returned with error status code 403",
      "\nDuring handling of the above exception, another exception occurred:\n",
      "\u001b[0;31mMPRestError\u001b[0m                               Traceback (most recent call last)",
      "\u001b[0;32m<ipython-input-17-a343ed1667af>\u001b[0m in \u001b[0;36m<module>\u001b[0;34m\u001b[0m\n\u001b[0;32m----> 1\u001b[0;31m \u001b[0mdata\u001b[0m \u001b[0;34m=\u001b[0m \u001b[0mmpr\u001b[0m\u001b[0;34m.\u001b[0m\u001b[0mquery\u001b[0m\u001b[0;34m(\u001b[0m\u001b[0;34m{\u001b[0m\u001b[0;34m'piezo'\u001b[0m\u001b[0;34m:\u001b[0m \u001b[0;34m{\u001b[0m\u001b[0;34m'$exists'\u001b[0m\u001b[0;34m:\u001b[0m \u001b[0;32mTrue\u001b[0m\u001b[0;34m}\u001b[0m\u001b[0;34m}\u001b[0m\u001b[0;34m,\u001b[0m \u001b[0;34m[\u001b[0m\u001b[0;34m'material_id'\u001b[0m\u001b[0;34m,\u001b[0m\u001b[0;34m'piezo'\u001b[0m\u001b[0;34m]\u001b[0m\u001b[0;34m)\u001b[0m\u001b[0;34m\u001b[0m\u001b[0;34m\u001b[0m\u001b[0m\n\u001b[0m",
      "\u001b[0;32m~/opt/anaconda3/lib/python3.8/site-packages/pymatgen/ext/matproj.py\u001b[0m in \u001b[0;36mquery\u001b[0;34m(self, criteria, properties, chunk_size, max_tries_per_chunk, mp_decode)\u001b[0m\n\u001b[1;32m    822\u001b[0m         \u001b[0mcount_payload\u001b[0m \u001b[0;34m=\u001b[0m \u001b[0mpayload\u001b[0m\u001b[0;34m.\u001b[0m\u001b[0mcopy\u001b[0m\u001b[0;34m(\u001b[0m\u001b[0;34m)\u001b[0m\u001b[0;34m\u001b[0m\u001b[0;34m\u001b[0m\u001b[0m\n\u001b[1;32m    823\u001b[0m         \u001b[0mcount_payload\u001b[0m\u001b[0;34m[\u001b[0m\u001b[0;34m\"options\"\u001b[0m\u001b[0;34m]\u001b[0m \u001b[0;34m=\u001b[0m \u001b[0mjson\u001b[0m\u001b[0;34m.\u001b[0m\u001b[0mdumps\u001b[0m\u001b[0;34m(\u001b[0m\u001b[0;34m{\u001b[0m\u001b[0;34m\"count_only\"\u001b[0m\u001b[0;34m:\u001b[0m \u001b[0;32mTrue\u001b[0m\u001b[0;34m}\u001b[0m\u001b[0;34m)\u001b[0m\u001b[0;34m\u001b[0m\u001b[0;34m\u001b[0m\u001b[0m\n\u001b[0;32m--> 824\u001b[0;31m         num_results = self._make_request(\n\u001b[0m\u001b[1;32m    825\u001b[0m             \"/query\", payload=count_payload, method=\"POST\")\n\u001b[1;32m    826\u001b[0m         \u001b[0;32mif\u001b[0m \u001b[0mnum_results\u001b[0m \u001b[0;34m<=\u001b[0m \u001b[0mchunk_size\u001b[0m\u001b[0;34m:\u001b[0m\u001b[0;34m\u001b[0m\u001b[0;34m\u001b[0m\u001b[0m\n",
      "\u001b[0;32m~/opt/anaconda3/lib/python3.8/site-packages/pymatgen/ext/matproj.py\u001b[0m in \u001b[0;36m_make_request\u001b[0;34m(self, sub_url, payload, method, mp_decode)\u001b[0m\n\u001b[1;32m    173\u001b[0m             \u001b[0mmsg\u001b[0m \u001b[0;34m=\u001b[0m \u001b[0;34m\"{}. Content: {}\"\u001b[0m\u001b[0;34m.\u001b[0m\u001b[0mformat\u001b[0m\u001b[0;34m(\u001b[0m\u001b[0mstr\u001b[0m\u001b[0;34m(\u001b[0m\u001b[0mex\u001b[0m\u001b[0;34m)\u001b[0m\u001b[0;34m,\u001b[0m \u001b[0mresponse\u001b[0m\u001b[0;34m.\u001b[0m\u001b[0mcontent\u001b[0m\u001b[0;34m)\u001b[0m\u001b[0;31m \u001b[0m\u001b[0;31m\\\u001b[0m\u001b[0;34m\u001b[0m\u001b[0;34m\u001b[0m\u001b[0m\n\u001b[1;32m    174\u001b[0m                 \u001b[0;32mif\u001b[0m \u001b[0mhasattr\u001b[0m\u001b[0;34m(\u001b[0m\u001b[0mresponse\u001b[0m\u001b[0;34m,\u001b[0m \u001b[0;34m\"content\"\u001b[0m\u001b[0;34m)\u001b[0m \u001b[0;32melse\u001b[0m \u001b[0mstr\u001b[0m\u001b[0;34m(\u001b[0m\u001b[0mex\u001b[0m\u001b[0;34m)\u001b[0m\u001b[0;34m\u001b[0m\u001b[0;34m\u001b[0m\u001b[0m\n\u001b[0;32m--> 175\u001b[0;31m             \u001b[0;32mraise\u001b[0m \u001b[0mMPRestError\u001b[0m\u001b[0;34m(\u001b[0m\u001b[0mmsg\u001b[0m\u001b[0;34m)\u001b[0m\u001b[0;34m\u001b[0m\u001b[0;34m\u001b[0m\u001b[0m\n\u001b[0m\u001b[1;32m    176\u001b[0m \u001b[0;34m\u001b[0m\u001b[0m\n\u001b[1;32m    177\u001b[0m     \u001b[0;32mdef\u001b[0m \u001b[0mget_materials_id_from_task_id\u001b[0m\u001b[0;34m(\u001b[0m\u001b[0mself\u001b[0m\u001b[0;34m,\u001b[0m \u001b[0mtask_id\u001b[0m\u001b[0;34m)\u001b[0m\u001b[0;34m:\u001b[0m\u001b[0;34m\u001b[0m\u001b[0;34m\u001b[0m\u001b[0m\n",
      "\u001b[0;31mMPRestError\u001b[0m: REST query returned with error status code 403. Content: b'{\"valid_response\": false, \"error\": \"API_KEY is not a valid key.\", \"version\": {\"db\": \"2020_09_08\", \"pymatgen\": \"2022.0.8\", \"rest\": \"2.0\"}, \"created_at\": \"2022-08-05T16:14:13.967428\"}'"
     ]
    }
   ],
   "source": [
    "data = mpr.query({'piezo': {'$exists': True}}, ['material_id','piezo'])"
   ]
  },
  {
   "cell_type": "code",
   "execution_count": null,
   "metadata": {},
   "outputs": [],
   "source": []
  }
 ],
 "metadata": {
  "kernelspec": {
   "display_name": "Python 3",
   "language": "python",
   "name": "python3"
  },
  "language_info": {
   "codemirror_mode": {
    "name": "ipython",
    "version": 3
   },
   "file_extension": ".py",
   "mimetype": "text/x-python",
   "name": "python",
   "nbconvert_exporter": "python",
   "pygments_lexer": "ipython3",
   "version": "3.8.5"
  }
 },
 "nbformat": 4,
 "nbformat_minor": 4
}
