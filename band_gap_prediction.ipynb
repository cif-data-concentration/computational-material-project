{
  "nbformat": 4,
  "nbformat_minor": 0,
  "metadata": {
    "colab": {
      "name": "band_gap_prediction.ipynb",
      "provenance": [],
      "collapsed_sections": []
    },
    "kernelspec": {
      "name": "python3",
      "display_name": "Python 3"
    },
    "language_info": {
      "name": "python"
    },
    "accelerator": "GPU"
  },
  "cells": [
    {
      "cell_type": "markdown",
      "source": [
        "This notebook should be run in colab setting: before running through the cells, the processed dataset 'bg_struct.csv' should be imported to google drive colab and change the corres"
      ],
      "metadata": {
        "id": "ClXfkA4l__Bk"
      }
    },
    {
      "cell_type": "code",
      "execution_count": 1,
      "metadata": {
        "colab": {
          "base_uri": "https://localhost:8080/"
        },
        "id": "tkJoXEhm2UVB",
        "outputId": "c415999b-445c-43eb-cee5-1876e546af62"
      },
      "outputs": [
        {
          "output_type": "stream",
          "name": "stdout",
          "text": [
            "Mounted at /content/gdrive\n"
          ]
        }
      ],
      "source": [
        "from google.colab import drive\n",
        "drive.mount(\"/content/gdrive\")"
      ]
    },
    {
      "cell_type": "markdown",
      "source": [
        "In this notebook, a deep learning with neural network structure model is trained to predict the relationship between ['cell_length_a', 'cell_lentgh_b', 'cell_lentgh_c', 'cell_angle_alpha', 'cell_angle_beta', 'cell_angle_gamma'] and ['bandgap'] of the data. After extensive tuning and testing, the resulting neural network model achieves a test accurary of 84.74%.\n",
        "\n",
        "For comparative study, k-means clustering is performed on the dataset. During preprocessing, each datapoint is classified to a class depending on the ['bandgap'] value. And total number of classes to be assigned to is the hyperparameter k in the k-means clustering to be tuned. After hyper-parameter tuning, 3 classes would give the highest classification accurary of 10.8% in test set. \n",
        "\n",
        "If I adopt this class assignment on the ['bandgap'] value and use one-hot encoding on the class label, the neural network classifier gives a classification accurary of 36.7% in test set, despite large amount of training and tuning efforts. \n",
        "\n",
        "Therefore, we can conclude that although the training can bring the training cost down, the results of deep learning for both regression and classification tasks are very negative. A potential cause is that the correlation between the ['cell_length_a', 'cell_lentgh_b', 'cell_lentgh_c', 'cell_angle_alpha', 'cell_angle_beta', 'cell_angle_gamma'] and ['bandgap'] of the data is weak. Also, the current class encoding is not supported by any domain knowledge: it's very likely that the class assignment is not linear in the value of ['bandgap'] that we are unable to capture. "
      ],
      "metadata": {
        "id": "4wWFQ08y88Qi"
      }
    },
    {
      "cell_type": "code",
      "source": [
        "# Import plotting libraries\n",
        "import matplotlib \n",
        "from matplotlib import pyplot as plt\n",
        "matplotlib.rcParams.update({'font.size': 20})\n",
        "plt.rcParams.update({'font.size': 22})\n",
        "\n",
        "import numpy as np\n",
        "import pandas as pd\n",
        "from sklearn.model_selection import cross_val_score\n",
        "from sklearn.model_selection import KFold\n",
        "from sklearn.model_selection import train_test_split\n",
        "from sklearn.preprocessing import StandardScaler\n",
        "from torch import linalg as LA\n",
        "import tensorflow\n",
        "from sklearn.cluster import KMeans\n",
        "\n",
        "import torch\n",
        "import torch.nn as nn\n",
        "import torch.nn.functional as F\n",
        "\n",
        "\n",
        "%load_ext autoreload\n",
        "%autoreload 2\n"
      ],
      "metadata": {
        "id": "N0mkRCon3XHV"
      },
      "execution_count": 2,
      "outputs": []
    },
    {
      "cell_type": "markdown",
      "source": [
        "## load and preprocess the data for training"
      ],
      "metadata": {
        "id": "lSvjFLu2CCfP"
      }
    },
    {
      "cell_type": "code",
      "source": [
        "\n",
        "data = pd.read_csv('/content/bg_struct.csv')\n",
        "X = data[['cell_length_a', 'cell_lentgh_b', 'cell_lentgh_c', 'cell_angle_alpha', 'cell_angle_beta', 'cell_angle_gamma']].values\n",
        "Y = data[['bandgap']].values"
      ],
      "metadata": {
        "id": "BF__-iHl3dPg"
      },
      "execution_count": 4,
      "outputs": []
    },
    {
      "cell_type": "code",
      "source": [
        "seed = 12\n",
        "# create test/train split from the data above and  keep 10% for testing\n",
        "X_train_pn, X_test_pn, y_train, y_test = train_test_split(X, Y,\n",
        "                                                         test_size=0.1, \n",
        "                                                         random_state=seed)\n",
        "\n",
        "# train a standard scaler model to apply it to the train set and test set\n",
        "X_train_scaler = StandardScaler().fit(X_train_pn)\n",
        "X_train = X_train_scaler.transform(X_train_pn).astype(np.float32)\n",
        "X_test = X_train_scaler.transform(X_test_pn).astype(np.float32)\n"
      ],
      "metadata": {
        "id": "YdwCKnp13mG8"
      },
      "execution_count": 5,
      "outputs": []
    },
    {
      "cell_type": "markdown",
      "source": [
        "## Supervised learning to explore the relationship between ['cell_length_a', 'cell_lentgh_b', 'cell_lentgh_c', 'cell_angle_alpha', 'cell_angle_beta', 'cell_angle_gamma'] and ['bandgap']"
      ],
      "metadata": {
        "id": "WZaxEPJACv8r"
      }
    },
    {
      "cell_type": "code",
      "source": [
        "x_data = torch.tensor(X_train)\n",
        "y_data = torch.tensor(y_train.astype(np.float32))\n",
        "\n",
        "x_test = torch.tensor(X_test)\n",
        "y_test = torch.tensor(y_test.astype(np.float32))"
      ],
      "metadata": {
        "id": "85yNaShr9tny"
      },
      "execution_count": 6,
      "outputs": []
    },
    {
      "cell_type": "code",
      "source": [
        "#construct the neural network architecture\n",
        "class Net(nn.Module):\n",
        "    def __init__(self, input_size):\n",
        "      super(Net, self).__init__()\n",
        "      self.fc1 = nn.Linear(input_size, 32)\n",
        "      self.fc2 = nn.Linear(32, 16)\n",
        "      self.fc3 = nn.Linear(16, 16)\n",
        "      self.fc4 = nn.Linear(16, 1)       \n",
        "      self.dropout1 = nn.Dropout(p=0.1)\n",
        "\n",
        "    def forward(self, x):\n",
        "      x = self.fc1(x)\n",
        "      F.relu(x)\n",
        "      x = self.fc2(x)\n",
        "      x = self.fc3(x)\n",
        "      x = F.relu(x)\n",
        "      x = self.fc4(x)\n",
        "\n",
        "      return x\n"
      ],
      "metadata": {
        "id": "C7H4NbuV4cCg"
      },
      "execution_count": 7,
      "outputs": []
    },
    {
      "cell_type": "code",
      "source": [
        "my_nn = Net(6)\n",
        "loss_fn = nn.MSELoss()\n",
        "epoch_loss = []\n",
        "model = my_nn\n",
        "learning_rate = 0.02\n",
        "optimizer = torch.optim.RMSprop(model.parameters(), lr=learning_rate, momentum=0.65)\n",
        "for t in range(1000):\n",
        "    y_pred = model(x_data)\n",
        "    loss = loss_fn(y_pred, y_data)\n",
        "    epoch_loss.append(loss.item())\n",
        "    if t % 100 == 99:\n",
        "        print(t, loss.item())\n",
        "    optimizer.zero_grad()\n",
        "    loss.backward()\n",
        "    optimizer.step()\n",
        "\n"
      ],
      "metadata": {
        "colab": {
          "base_uri": "https://localhost:8080/"
        },
        "id": "beS9TF9e9nhg",
        "outputId": "f5406ea9-8a43-464c-a350-966b72ab8d56"
      },
      "execution_count": 8,
      "outputs": [
        {
          "output_type": "stream",
          "name": "stdout",
          "text": [
            "99 0.3094118535518646\n",
            "199 0.14646705985069275\n",
            "299 0.1417354941368103\n",
            "399 0.1405433565378189\n",
            "499 0.1399274319410324\n",
            "599 0.13957999646663666\n",
            "699 0.13944172859191895\n",
            "799 0.13937486708164215\n",
            "899 0.13931149244308472\n",
            "999 0.13925586640834808\n"
          ]
        }
      ]
    },
    {
      "cell_type": "code",
      "source": [
        "test_result = model(x_test)\n",
        "print(\"curr test loss is=\", LA.norm(y_test-test_result)/LA.norm(y_test))"
      ],
      "metadata": {
        "colab": {
          "base_uri": "https://localhost:8080/"
        },
        "id": "nJNuTh2O4kVt",
        "outputId": "b38e54a9-b819-4cf1-8e22-54ea8ecfab01"
      },
      "execution_count": 17,
      "outputs": [
        {
          "output_type": "stream",
          "name": "stdout",
          "text": [
            "curr test loss is= tensor(0.1527, grad_fn=<DivBackward0>)\n"
          ]
        }
      ]
    },
    {
      "cell_type": "markdown",
      "source": [
        "visualize the training curve: the initial noise is cut off for better visualization"
      ],
      "metadata": {
        "id": "rWWxqY_1DIoW"
      }
    },
    {
      "cell_type": "code",
      "source": [
        "plt.plot(epoch_loss[10:])\n",
        "plt.xlabel(\"iteration #\")\n",
        "plt.ylabel(\"epoch loss\")\n",
        "plt.title(\"training loss iteration\")"
      ],
      "metadata": {
        "id": "_87fWv_QT0NM",
        "colab": {
          "base_uri": "https://localhost:8080/",
          "height": 342
        },
        "outputId": "b4e1a346-7891-45be-9290-4df4a9ad296d"
      },
      "execution_count": 35,
      "outputs": [
        {
          "output_type": "execute_result",
          "data": {
            "text/plain": [
              "Text(0.5, 1.0, 'training loss iteration')"
            ]
          },
          "metadata": {},
          "execution_count": 35
        },
        {
          "output_type": "display_data",
          "data": {
            "text/plain": [
              "<Figure size 432x288 with 1 Axes>"
            ],
            "image/png": "[encoded data removed]"
          },
          "metadata": {
            "needs_background": "light"
          }
        }
      ]
    },
    {
      "cell_type": "code",
      "source": [
        ""
      ],
      "metadata": {
        "id": "LRv-j66oMyA1"
      },
      "execution_count": null,
      "outputs": []
    },
    {
      "cell_type": "markdown",
      "source": [
        "## k-means clustering"
      ],
      "metadata": {
        "id": "MQeV7GA7Db8y"
      }
    },
    {
      "cell_type": "code",
      "source": [
        "bins = plt.hist(Y, bins=3)\n",
        "plt.title(\"bandgap histogram\")\n",
        "plt.ylabel(\"bandgap\")\n",
        "plt.xlabel(\"count\")"
      ],
      "metadata": {
        "colab": {
          "base_uri": "https://localhost:8080/",
          "height": 343
        },
        "id": "n-TN3-WU5eT4",
        "outputId": "ab4e5a4c-25d5-4a51-e07a-da44b6832a36"
      },
      "execution_count": null,
      "outputs": [
        {
          "output_type": "execute_result",
          "data": {
            "text/plain": [
              "Text(0.5, 0, 'count')"
            ]
          },
          "metadata": {},
          "execution_count": 67
        },
        {
          "output_type": "display_data",
          "data": {
            "text/plain": [
              "<Figure size 432x288 with 1 Axes>"
            ],
            "image/png": "[encoded data removed]"
          },
          "metadata": {
            "needs_background": "light"
          }
        }
      ]
    },
    {
      "cell_type": "code",
      "source": [
        "class_boundary = bins[1]\n",
        "def classify(y_i):\n",
        "  \n",
        "  n = len(class_boundary)\n",
        "  for i in range(n-1):\n",
        "    if y_i >= class_boundary[i] and y_i < class_boundary[i+1]:\n",
        "\n",
        "      return i\n",
        "\n",
        "y_class = [classify(yi[0]) for yi in Y]"
      ],
      "metadata": {
        "id": "VJdXp42i5DnA"
      },
      "execution_count": null,
      "outputs": []
    },
    {
      "cell_type": "code",
      "source": [
        "plt.plot(y_class)\n",
        "plt.title(\"training data class assignment\")\n",
        "plt.xlabel(\"data indx\")\n",
        "plt.ylabel(\"class\")"
      ],
      "metadata": {
        "colab": {
          "base_uri": "https://localhost:8080/",
          "height": 343
        },
        "id": "qK9K0hjT9HZL",
        "outputId": "acdd4e52-73b6-4bb8-d409-4e9d8493f2cf"
      },
      "execution_count": null,
      "outputs": [
        {
          "output_type": "execute_result",
          "data": {
            "text/plain": [
              "Text(0, 0.5, 'class')"
            ]
          },
          "metadata": {},
          "execution_count": 69
        },
        {
          "output_type": "display_data",
          "data": {
            "text/plain": [
              "<Figure size 432x288 with 1 Axes>"
            ],
            "image/png": "[encoded data removed]"
          },
          "metadata": {
            "needs_background": "light"
          }
        }
      ]
    },
    {
      "cell_type": "code",
      "source": [
        "#train the clustering model\n",
        "kmeans = KMeans(n_clusters=10, random_state=0).fit(X_train)\n",
        "#classify each datapoint in testset to the trained clusters\n",
        "pred_test_y_class = kmeans.predict(X_test)\n",
        "test_y_class = [classify(yi[0]) for yi in y_test]\n",
        "\n",
        "count = 0\n",
        "for i_ in range(len(test_y_class)):\n",
        "  if test_y_class[i_] == pred_test_y_class[i_]:\n",
        "    count += 1\n",
        "print(\"the resulting validation set classification accuracy is \", count/len(test_y_class))"
      ],
      "metadata": {
        "colab": {
          "base_uri": "https://localhost:8080/"
        },
        "id": "ZzkTTyHI9n_Q",
        "outputId": "00911446-243f-4422-c217-3f94af91e67f"
      },
      "execution_count": null,
      "outputs": [
        {
          "output_type": "stream",
          "name": "stdout",
          "text": [
            "the resulting validation set classification accuracy is  0.10893512851897184\n"
          ]
        }
      ]
    },
    {
      "cell_type": "markdown",
      "source": [
        "## If I adopt this class assignment and build a neural network classifier on the data."
      ],
      "metadata": {
        "id": "cyQEvRLjETyF"
      }
    },
    {
      "cell_type": "code",
      "source": [
        "train_y_class = [classify(yi[0]) for yi in y_data]"
      ],
      "metadata": {
        "id": "Rvpt-47yKwQ2"
      },
      "execution_count": null,
      "outputs": []
    },
    {
      "cell_type": "code",
      "source": [
        "#construct the neural network architecture\n",
        "class Net_classifier(nn.Module):\n",
        "    def __init__(self, input_size):\n",
        "      super(Net_classifier, self).__init__()\n",
        "      self.fc1 = nn.Linear(input_size, 64)\n",
        "      self.fc2 = nn.Linear(64, 128)\n",
        "      self.fc3 = nn.Linear(128, 64)\n",
        "      self.fc4 = nn.Linear(64, 3)       \n",
        "      self.dropout1 = nn.Dropout(p=0.1)\n",
        "\n",
        "    def forward(self, x):\n",
        "      x = self.fc1(x)\n",
        "      x = F.relu(x)\n",
        "      x = self.fc2(x)\n",
        "      x = self.fc3(x)\n",
        "      x = F.relu(x)\n",
        "      x = self.fc4(x)\n",
        "      return x"
      ],
      "metadata": {
        "id": "wFSJJW9aFZi-"
      },
      "execution_count": null,
      "outputs": []
    },
    {
      "cell_type": "code",
      "source": [
        "y_class_mat = []\n",
        "for i in train_y_class:\n",
        "  one_hot_encoder = np.zeros(3)\n",
        "  one_hot_encoder[i] = 1\n",
        "  y_class_mat.append(one_hot_encoder.copy())\n",
        "y_class_mat = np.array(y_class_mat)\n",
        "y_class_mat = torch.tensor(y_class_mat.astype(np.float32))"
      ],
      "metadata": {
        "id": "8g2s4SjvJi9d"
      },
      "execution_count": null,
      "outputs": []
    },
    {
      "cell_type": "code",
      "source": [
        "my_nn = Net_classifier(6)\n",
        "y_class = np.array(y_class)\n",
        "loss_fn = nn.MSELoss()\n",
        "epoch_loss = []\n",
        "model = my_nn\n",
        "learning_rate = 0.02\n",
        "optimizer = torch.optim.RMSprop(model.parameters(), lr=learning_rate, momentum=0.8)\n",
        "for t in range(10000):\n",
        "    y_pred = model(x_data)\n",
        "    loss = loss_fn(y_pred, y_class_mat)\n",
        "    epoch_loss.append(loss.item())\n",
        "    if t % 100 == 99:\n",
        "        print(t, loss.item())\n",
        "    optimizer.zero_grad()\n",
        "    loss.backward()\n",
        "    optimizer.step()\n",
        "\n"
      ],
      "metadata": {
        "colab": {
          "base_uri": "https://localhost:8080/"
        },
        "id": "bTSGSEDwFNcj",
        "outputId": "d66567f2-f81b-4dda-836f-e2ae8963ec8d"
      },
      "execution_count": null,
      "outputs": [
        {
          "output_type": "stream",
          "name": "stdout",
          "text": [
            "99 1.3743559122085571\n",
            "199 0.8315625190734863\n",
            "299 0.43279320001602173\n",
            "399 0.2570953965187073\n",
            "499 0.22299392521381378\n",
            "599 0.22122569382190704\n",
            "699 0.22121590375900269\n",
            "799 0.22121590375900269\n",
            "899 0.22121590375900269\n",
            "999 0.22121593356132507\n",
            "1099 0.22121593356132507\n",
            "1199 0.22121593356132507\n",
            "1299 0.22121590375900269\n",
            "1399 0.22121590375900269\n",
            "1499 0.22121593356132507\n",
            "1599 0.22121590375900269\n",
            "1699 0.22121590375900269\n",
            "1799 0.22121590375900269\n",
            "1899 0.22121761739253998\n",
            "1999 0.22121666371822357\n",
            "2099 0.22125299274921417\n",
            "2199 0.22123247385025024\n",
            "2299 0.22121934592723846\n",
            "2399 0.2212330847978592\n",
            "2499 0.22123326361179352\n",
            "2599 0.22131504118442535\n",
            "2699 0.22131741046905518\n",
            "2799 0.22121743857860565\n",
            "2899 0.2212206870317459\n",
            "2999 0.22127731144428253\n",
            "3099 0.2212742269039154\n",
            "3199 0.2212361842393875\n",
            "3299 0.22121849656105042\n",
            "3399 0.22121761739253998\n",
            "3499 0.22122305631637573\n",
            "3599 0.2212301641702652\n",
            "3699 0.2212897688150406\n",
            "3799 0.22122037410736084\n",
            "3899 0.22132597863674164\n",
            "3999 0.22124314308166504\n",
            "4099 0.22122687101364136\n",
            "4199 0.22128692269325256\n",
            "4299 0.22122611105442047\n",
            "4399 0.2212168425321579\n",
            "4499 0.22122322022914886\n",
            "4599 0.22124728560447693\n",
            "4699 0.22124247252941132\n",
            "4799 0.22135168313980103\n",
            "4899 0.221230611205101\n",
            "4999 0.22138360142707825\n",
            "5099 0.22122907638549805\n",
            "5199 0.22123923897743225\n",
            "5299 0.22121991217136383\n",
            "5399 0.22122445702552795\n",
            "5499 0.2212328314781189\n",
            "5599 0.22122281789779663\n",
            "5699 0.22122099995613098\n",
            "5799 0.22121675312519073\n",
            "5899 0.22121649980545044\n",
            "5999 0.2212243676185608\n",
            "6099 0.22122326493263245\n",
            "6199 0.2212800830602646\n",
            "6299 0.22121679782867432\n",
            "6399 0.2212381362915039\n",
            "6499 0.22125430405139923\n",
            "6599 0.22122719883918762\n",
            "6699 0.2212689220905304\n",
            "6799 0.22133539617061615\n",
            "6899 0.22127646207809448\n",
            "6999 0.22125066816806793\n",
            "7099 0.22130943834781647\n",
            "7199 0.22123676538467407\n",
            "7299 0.22122110426425934\n",
            "7399 0.22123977541923523\n",
            "7499 0.22123782336711884\n",
            "7599 0.22126150131225586\n",
            "7699 0.22121962904930115\n",
            "7799 0.221249520778656\n",
            "7899 0.22121962904930115\n",
            "7999 0.22121748328208923\n",
            "8099 0.22121809422969818\n",
            "8199 0.22123056650161743\n",
            "8299 0.22123630344867706\n",
            "8399 0.22121931612491608\n",
            "8499 0.22122208774089813\n",
            "8599 0.2212209403514862\n",
            "8699 0.22121699154376984\n",
            "8799 0.22121839225292206\n",
            "8899 0.2212425023317337\n",
            "8999 0.22126440703868866\n",
            "9099 0.2212308794260025\n",
            "9199 0.22127139568328857\n",
            "9299 0.22122004628181458\n",
            "9399 0.22121776640415192\n",
            "9499 0.2212381660938263\n",
            "9599 0.221231147646904\n",
            "9699 0.22121812403202057\n",
            "9799 0.22123265266418457\n",
            "9899 0.22123898565769196\n",
            "9999 0.22123928368091583\n"
          ]
        }
      ]
    },
    {
      "cell_type": "code",
      "source": [
        "class_test_result = my_nn(x_test)\n",
        "predicted_class = torch.argmax(class_test_result, axis=1).numpy()"
      ],
      "metadata": {
        "id": "UYq3K8RgLyDo"
      },
      "execution_count": null,
      "outputs": []
    },
    {
      "cell_type": "code",
      "source": [
        "count = 0\n",
        "for i_ in range(len(test_y_class)):\n",
        "  if test_y_class[i_] == predicted_class[i_]:\n",
        "    count += 1\n",
        "print(\"the resulting validation set classification accuracy is \", count/len(test_y_class))"
      ],
      "metadata": {
        "colab": {
          "base_uri": "https://localhost:8080/"
        },
        "id": "KA3e3tTJPAeS",
        "outputId": "37b07ab5-515a-41da-9ab9-4d325e141805"
      },
      "execution_count": null,
      "outputs": [
        {
          "output_type": "stream",
          "name": "stdout",
          "text": [
            "the resulting validation set classification accuracy is  0.3678090575275398\n"
          ]
        }
      ]
    },
    {
      "cell_type": "code",
      "source": [
        "plt.plot(epoch_loss[10:])\n",
        "plt.xlabel(\"iteration #\")\n",
        "plt.ylabel(\"epoch loss\")\n",
        "plt.title(\"training loss iteration\")"
      ],
      "metadata": {
        "colab": {
          "base_uri": "https://localhost:8080/",
          "height": 343
        },
        "id": "qGsDmCfwLqN5",
        "outputId": "5225b4b8-1b4b-4dbb-c8d3-13918436117f"
      },
      "execution_count": null,
      "outputs": [
        {
          "output_type": "execute_result",
          "data": {
            "text/plain": [
              "Text(0.5, 1.0, 'training loss iteration')"
            ]
          },
          "metadata": {},
          "execution_count": 86
        },
        {
          "output_type": "display_data",
          "data": {
            "text/plain": [
              "<Figure size 432x288 with 1 Axes>"
            ],
            "image/png": "[encoded data removed]"
          },
          "metadata": {
            "needs_background": "light"
          }
        }
      ]
    }
  ]
}