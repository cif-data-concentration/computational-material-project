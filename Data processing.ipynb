{
 "cells": [
  {
   "cell_type": "markdown",
   "metadata": {},
   "source": [
    "Project outline\n",
    "\n",
    "Goal: we aim to (1). create a data processing pipeline for CIF datasets and (2). using the state-of-art machine learning models to perform computational material science tasks\n",
    "- loading and parsing original CIF datasets into pandas dataframes\n",
    "- perform preliminary data cleaning: 1). removing NaN items 2). sample datasets to verify the eligibility of information being loaded 3). convert the data formatting/types if needed to ease the following study\n",
    "- Create visualization of datasets, using domain knowledge to visualize the features of choice. \n",
    "- from the processed dataset and visualizations, form hypothesis of interests and implement the appropriate ML methodologies to verify/negate the hypothesis.\n",
    "- form conclusion"
   ]
  },
  {
   "cell_type": "code",
   "execution_count": null,
   "metadata": {},
   "outputs": [],
   "source": []
  },
  {
   "cell_type": "markdown",
   "metadata": {},
   "source": [
    "### Loading and Parsing original CIF (Crystallographic Information File) dataset\n"
   ]
  },
  {
   "cell_type": "code",
   "execution_count": 1,
   "metadata": {},
   "outputs": [
    {
     "name": "stdout",
     "output_type": "stream",
     "text": [
      "Collecting gemmi\n",
      "  Downloading gemmi-0.5.2-cp38-cp38-macosx_10_9_x86_64.whl (2.6 MB)\n",
      "\u001b[K     |████████████████████████████████| 2.6 MB 2.1 MB/s eta 0:00:01\n",
      "\u001b[?25hInstalling collected packages: gemmi\n",
      "Successfully installed gemmi-0.5.2\n"
     ]
    }
   ],
   "source": [
    "!pip install gemmi"
   ]
  },
  {
   "cell_type": "code",
   "execution_count": null,
   "metadata": {},
   "outputs": [],
   "source": [
    "#import \n",
    "from gemmi import cif\n",
    "import sys"
   ]
  },
  {
   "cell_type": "code",
   "execution_count": 4,
   "metadata": {},
   "outputs": [],
   "source": [
    "greeted = set()\n",
    "file_path = '0002.cif'\n",
    "try:\n",
    "    doc = cif.read_file(file_path)  \n",
    "    block = doc.sole_block()  \n",
    "except Exception as e:\n",
    "    print(\"Oops. %s, something wrong with CIF file loading\" % e)\n",
    "    sys.exit(1)"
   ]
  },
  {
   "cell_type": "code",
   "execution_count": 13,
   "metadata": {
    "scrolled": true
   },
   "outputs": [
    {
     "data": {
      "text/plain": [
       "'HC'"
      ]
     },
     "execution_count": 13,
     "metadata": {},
     "output_type": "execute_result"
    }
   ],
   "source": [
    "block.name"
   ]
  },
  {
   "cell_type": "code",
   "execution_count": 18,
   "metadata": {},
   "outputs": [
    {
     "name": "stdout",
     "output_type": "stream",
     "text": [
      "item 0\n",
      "pair ['_symmetry_space_group_name_H-M', \"'P 1'\"]\n",
      "item 1\n",
      "pair ['_cell_length_a', '11.28199681']\n",
      "item 2\n",
      "pair ['_cell_length_b', '7.51736100']\n",
      "item 3\n",
      "pair ['_cell_length_c', '16.46172990']\n",
      "item 4\n",
      "pair ['_cell_angle_alpha', '90.00000000']\n",
      "item 5\n",
      "pair ['_cell_angle_beta', '115.67413156']\n",
      "item 6\n",
      "pair ['_cell_angle_gamma', '90.00000000']\n",
      "item 7\n",
      "pair ['_symmetry_Int_Tables_number', '1']\n",
      "item 8\n",
      "pair ['_chemical_formula_structural', 'HC']\n",
      "item 9\n",
      "pair ['_chemical_formula_sum', \"'H64 C64'\"]\n",
      "item 10\n",
      "pair ['_cell_volume', '1258.29675792']\n",
      "item 11\n",
      "pair ['_cell_formula_units_Z', '64']\n",
      "item 12\n",
      "loop <gemmi.cif.Loop 1 x 2>\n",
      "item 13\n",
      "loop <gemmi.cif.Loop 128 x 7>\n"
     ]
    }
   ],
   "source": [
    "i = 0\n",
    "for item in block:\n",
    "    print(\"item {}\".format(i))\n",
    "    if item.pair is not None:\n",
    "        print('pair', item.pair)\n",
    "    elif item.loop is not None:\n",
    "        print('loop', item.loop)\n",
    "    elif item.frame is not None:\n",
    "        print('frame', item.frame)\n",
    "    i += 1\n",
    "\n",
    "    "
   ]
  }
 ],
 "metadata": {
  "kernelspec": {
   "display_name": "Python 3 (ipykernel)",
   "language": "python",
   "name": "python3"
  },
  "language_info": {
   "codemirror_mode": {
    "name": "ipython",
    "version": 3
   },
   "file_extension": ".py",
   "mimetype": "text/x-python",
   "name": "python",
   "nbconvert_exporter": "python",
   "pygments_lexer": "ipython3",
   "version": "3.7.11"
  }
 },
 "nbformat": 4,
 "nbformat_minor": 4
}
