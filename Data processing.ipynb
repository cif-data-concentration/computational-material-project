{
 "cells": [
  {
   "cell_type": "markdown",
   "metadata": {},
   "source": [
    "Project outline\n",
    "\n",
    "Goal: we aim to (1). create a data processing pipeline for CIF datasets and (2). using the state-of-art machine learning models to perform computational material science tasks\n",
    "- loading and parsing original CIF datasets into pandas dataframes\n",
    "- perform preliminary data cleaning: 1). removing NaN items 2). sample datasets to verify the eligibility of information being loaded 3). convert the data formatting/types if needed to ease the following study\n",
    "- Create visualization of datasets, using domain knowledge to visualize the features of choice. \n",
    "- from the processed dataset and visualizations, form hypothesis of interests and implement the appropriate ML methodologies to verify/negate the hypothesis.\n",
    "- form conclusion"
   ]
  },
  {
   "cell_type": "code",
   "execution_count": null,
   "metadata": {},
   "outputs": [],
   "source": []
  },
  {
   "cell_type": "markdown",
   "metadata": {},
   "source": [
    "### Loading and Parsing original CIF (Crystallographic Information File) dataset\n"
   ]
  },
  {
   "cell_type": "code",
   "execution_count": 1,
   "metadata": {},
   "outputs": [
    {
     "name": "stdout",
     "output_type": "stream",
     "text": [
      "Collecting gemmi\n",
      "  Downloading gemmi-0.5.2-cp38-cp38-macosx_10_9_x86_64.whl (2.6 MB)\n",
      "\u001b[K     |████████████████████████████████| 2.6 MB 2.1 MB/s eta 0:00:01\n",
      "\u001b[?25hInstalling collected packages: gemmi\n",
      "Successfully installed gemmi-0.5.2\n"
     ]
    }
   ],
   "source": [
    "!pip install gemmi"
   ]
  },
  {
   "cell_type": "code",
   "execution_count": null,
   "metadata": {},
   "outputs": [],
   "source": [
    "#import \n",
    "from gemmi import cif\n",
    "import sys"
   ]
  },
  {
   "cell_type": "code",
   "execution_count": 4,
   "metadata": {},
   "outputs": [],
   "source": [
    "greeted = set()\n",
    "file_path = '0002.cif'\n",
    "try:\n",
    "    doc = cif.read_file(file_path)  \n",
    "    block = doc.sole_block()  \n",
    "except Exception as e:\n",
    "    print(\"Oops. %s, something wrong with CIF file loading\" % e)\n",
    "    sys.exit(1)"
   ]
  },
  {
   "cell_type": "code",
   "execution_count": 13,
   "metadata": {
    "scrolled": true
   },
   "outputs": [
    {
     "data": {
      "text/plain": [
       "'HC'"
      ]
     },
     "execution_count": 13,
     "metadata": {},
     "output_type": "execute_result"
    }
   ],
   "source": [
    "block.name"
   ]
  },
  {
   "cell_type": "code",
   "execution_count": 18,
   "metadata": {},
   "outputs": [
    {
     "name": "stdout",
     "output_type": "stream",
     "text": [
      "item 0\n",
      "pair ['_symmetry_space_group_name_H-M', \"'P 1'\"]\n",
      "item 1\n",
      "pair ['_cell_length_a', '11.28199681']\n",
      "item 2\n",
      "pair ['_cell_length_b', '7.51736100']\n",
      "item 3\n",
      "pair ['_cell_length_c', '16.46172990']\n",
      "item 4\n",
      "pair ['_cell_angle_alpha', '90.00000000']\n",
      "item 5\n",
      "pair ['_cell_angle_beta', '115.67413156']\n",
      "item 6\n",
      "pair ['_cell_angle_gamma', '90.00000000']\n",
      "item 7\n",
      "pair ['_symmetry_Int_Tables_number', '1']\n",
      "item 8\n",
      "pair ['_chemical_formula_structural', 'HC']\n",
      "item 9\n",
      "pair ['_chemical_formula_sum', \"'H64 C64'\"]\n",
      "item 10\n",
      "pair ['_cell_volume', '1258.29675792']\n",
      "item 11\n",
      "pair ['_cell_formula_units_Z', '64']\n",
      "item 12\n",
      "loop <gemmi.cif.Loop 1 x 2>\n",
      "item 13\n",
      "loop <gemmi.cif.Loop 128 x 7>\n"
     ]
    }
   ],
   "source": [
    "i = 0\n",
    "for item in block:\n",
    "    print(\"item {}\".format(i))\n",
    "    if item.pair is not None:\n",
    "        print('pair', item.pair)\n",
    "    elif item.loop is not None:\n",
    "        print('loop', item.loop)\n",
    "    elif item.frame is not None:\n",
    "        print('frame', item.frame)\n",
    "    i += 1\n",
    "\n",
    "    "
   ]
  },
  {
   "cell_type": "code",
   "execution_count": 1,
   "metadata": {},
   "outputs": [
    {
     "data": {
      "text/html": [
       "<div>\n",
       "<style scoped>\n",
       "    .dataframe tbody tr th:only-of-type {\n",
       "        vertical-align: middle;\n",
       "    }\n",
       "\n",
       "    .dataframe tbody tr th {\n",
       "        vertical-align: top;\n",
       "    }\n",
       "\n",
       "    .dataframe thead th {\n",
       "        text-align: right;\n",
       "    }\n",
       "</style>\n",
       "<table border=\"1\" class=\"dataframe\">\n",
       "  <thead>\n",
       "    <tr style=\"text-align: right;\">\n",
       "      <th></th>\n",
       "      <th>Unnamed: 0</th>\n",
       "      <th>pretty_formula</th>\n",
       "      <th>bandgap</th>\n",
       "      <th>cell_length_a</th>\n",
       "      <th>cell_lentgh_b</th>\n",
       "      <th>cell_lentgh_c</th>\n",
       "      <th>cell_angle_alpha</th>\n",
       "      <th>cell_angle_beta</th>\n",
       "      <th>cell_angle_gamma</th>\n",
       "    </tr>\n",
       "  </thead>\n",
       "  <tbody>\n",
       "    <tr>\n",
       "      <th>0</th>\n",
       "      <td>0</td>\n",
       "      <td>BrCl</td>\n",
       "      <td>1.8278</td>\n",
       "      <td>4.645947</td>\n",
       "      <td>4.645947</td>\n",
       "      <td>7.810701</td>\n",
       "      <td>90.000000</td>\n",
       "      <td>90.000000</td>\n",
       "      <td>115.948189</td>\n",
       "    </tr>\n",
       "    <tr>\n",
       "      <th>1</th>\n",
       "      <td>1</td>\n",
       "      <td>SrC2</td>\n",
       "      <td>1.8008</td>\n",
       "      <td>3.710786</td>\n",
       "      <td>3.710786</td>\n",
       "      <td>3.710785</td>\n",
       "      <td>85.434482</td>\n",
       "      <td>85.434482</td>\n",
       "      <td>85.434493</td>\n",
       "    </tr>\n",
       "    <tr>\n",
       "      <th>2</th>\n",
       "      <td>2</td>\n",
       "      <td>Cs2Se</td>\n",
       "      <td>1.8027</td>\n",
       "      <td>5.624158</td>\n",
       "      <td>9.095804</td>\n",
       "      <td>10.998913</td>\n",
       "      <td>90.000000</td>\n",
       "      <td>90.000000</td>\n",
       "      <td>90.000000</td>\n",
       "    </tr>\n",
       "    <tr>\n",
       "      <th>3</th>\n",
       "      <td>3</td>\n",
       "      <td>Cs2Se</td>\n",
       "      <td>1.8141</td>\n",
       "      <td>9.136351</td>\n",
       "      <td>5.630188</td>\n",
       "      <td>12.173633</td>\n",
       "      <td>63.874547</td>\n",
       "      <td>90.000000</td>\n",
       "      <td>90.000000</td>\n",
       "    </tr>\n",
       "    <tr>\n",
       "      <th>4</th>\n",
       "      <td>4</td>\n",
       "      <td>CsPbBr3</td>\n",
       "      <td>1.8178</td>\n",
       "      <td>8.459612</td>\n",
       "      <td>8.459612</td>\n",
       "      <td>8.459612</td>\n",
       "      <td>120.097716</td>\n",
       "      <td>120.097716</td>\n",
       "      <td>89.830834</td>\n",
       "    </tr>\n",
       "    <tr>\n",
       "      <th>...</th>\n",
       "      <td>...</td>\n",
       "      <td>...</td>\n",
       "      <td>...</td>\n",
       "      <td>...</td>\n",
       "      <td>...</td>\n",
       "      <td>...</td>\n",
       "      <td>...</td>\n",
       "      <td>...</td>\n",
       "      <td>...</td>\n",
       "    </tr>\n",
       "    <tr>\n",
       "      <th>16330</th>\n",
       "      <td>16330</td>\n",
       "      <td>WF5</td>\n",
       "      <td>3.0758</td>\n",
       "      <td>5.611147</td>\n",
       "      <td>5.611147</td>\n",
       "      <td>8.010659</td>\n",
       "      <td>68.676900</td>\n",
       "      <td>68.676900</td>\n",
       "      <td>69.234567</td>\n",
       "    </tr>\n",
       "    <tr>\n",
       "      <th>16331</th>\n",
       "      <td>16331</td>\n",
       "      <td>MgTa2O6</td>\n",
       "      <td>3.0939</td>\n",
       "      <td>5.229550</td>\n",
       "      <td>5.510996</td>\n",
       "      <td>7.608652</td>\n",
       "      <td>90.000000</td>\n",
       "      <td>90.000000</td>\n",
       "      <td>90.000000</td>\n",
       "    </tr>\n",
       "    <tr>\n",
       "      <th>16332</th>\n",
       "      <td>16332</td>\n",
       "      <td>CaCo(PO3)4</td>\n",
       "      <td>3.0966</td>\n",
       "      <td>7.531192</td>\n",
       "      <td>7.531192</td>\n",
       "      <td>10.222424</td>\n",
       "      <td>67.581752</td>\n",
       "      <td>67.581752</td>\n",
       "      <td>71.180359</td>\n",
       "    </tr>\n",
       "    <tr>\n",
       "      <th>16333</th>\n",
       "      <td>16333</td>\n",
       "      <td>Ca2Nb2NiO8</td>\n",
       "      <td>3.0771</td>\n",
       "      <td>9.955875</td>\n",
       "      <td>9.955875</td>\n",
       "      <td>5.484972</td>\n",
       "      <td>88.825540</td>\n",
       "      <td>88.825540</td>\n",
       "      <td>36.909123</td>\n",
       "    </tr>\n",
       "    <tr>\n",
       "      <th>16334</th>\n",
       "      <td>16334</td>\n",
       "      <td>MgMn(Si2O5)2</td>\n",
       "      <td>3.0860</td>\n",
       "      <td>7.392686</td>\n",
       "      <td>7.392686</td>\n",
       "      <td>14.880247</td>\n",
       "      <td>90.000000</td>\n",
       "      <td>90.000000</td>\n",
       "      <td>90.000000</td>\n",
       "    </tr>\n",
       "  </tbody>\n",
       "</table>\n",
       "<p>16335 rows × 9 columns</p>\n",
       "</div>"
      ],
      "text/plain": [
       "       Unnamed: 0 pretty_formula  bandgap  cell_length_a  cell_lentgh_b  \\\n",
       "0               0           BrCl   1.8278       4.645947       4.645947   \n",
       "1               1           SrC2   1.8008       3.710786       3.710786   \n",
       "2               2          Cs2Se   1.8027       5.624158       9.095804   \n",
       "3               3          Cs2Se   1.8141       9.136351       5.630188   \n",
       "4               4        CsPbBr3   1.8178       8.459612       8.459612   \n",
       "...           ...            ...      ...            ...            ...   \n",
       "16330       16330            WF5   3.0758       5.611147       5.611147   \n",
       "16331       16331        MgTa2O6   3.0939       5.229550       5.510996   \n",
       "16332       16332     CaCo(PO3)4   3.0966       7.531192       7.531192   \n",
       "16333       16333     Ca2Nb2NiO8   3.0771       9.955875       9.955875   \n",
       "16334       16334   MgMn(Si2O5)2   3.0860       7.392686       7.392686   \n",
       "\n",
       "       cell_lentgh_c  cell_angle_alpha  cell_angle_beta  cell_angle_gamma  \n",
       "0           7.810701         90.000000        90.000000        115.948189  \n",
       "1           3.710785         85.434482        85.434482         85.434493  \n",
       "2          10.998913         90.000000        90.000000         90.000000  \n",
       "3          12.173633         63.874547        90.000000         90.000000  \n",
       "4           8.459612        120.097716       120.097716         89.830834  \n",
       "...              ...               ...              ...               ...  \n",
       "16330       8.010659         68.676900        68.676900         69.234567  \n",
       "16331       7.608652         90.000000        90.000000         90.000000  \n",
       "16332      10.222424         67.581752        67.581752         71.180359  \n",
       "16333       5.484972         88.825540        88.825540         36.909123  \n",
       "16334      14.880247         90.000000        90.000000         90.000000  \n",
       "\n",
       "[16335 rows x 9 columns]"
      ]
     },
     "execution_count": 1,
     "metadata": {},
     "output_type": "execute_result"
    }
   ],
   "source": [
    "import pandas as pd\n",
    "df = pd.read_csv('bg_struct.csv')"
   ]
  }
 ],
 "metadata": {
  "kernelspec": {
   "display_name": "Python 3 (ipykernel)",
   "language": "python",
   "name": "python3"
  },
  "language_info": {
   "codemirror_mode": {
    "name": "ipython",
    "version": 3
   },
   "file_extension": ".py",
   "mimetype": "text/x-python",
   "name": "python",
   "nbconvert_exporter": "python",
   "pygments_lexer": "ipython3",
   "version": "3.7.11"
  }
 },
 "nbformat": 4,
 "nbformat_minor": 4
}
