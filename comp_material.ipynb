{
  "nbformat": 4,
  "nbformat_minor": 0,
  "metadata": {
    "colab": {
      "name": "comp_material.ipynb",
      "provenance": [],
      "collapsed_sections": []
    },
    "kernelspec": {
      "name": "python3",
      "display_name": "Python 3"
    },
    "language_info": {
      "name": "python"
    },
    "accelerator": "GPU"
  },
  "cells": [
    {
      "cell_type": "code",
      "execution_count": 1,
      "metadata": {
        "colab": {
          "base_uri": "https://localhost:8080/"
        },
        "id": "tkJoXEhm2UVB",
        "outputId": "8338b1ce-3992-4de2-d60f-b81f3a2fa964"
      },
      "outputs": [
        {
          "output_type": "stream",
          "name": "stdout",
          "text": [
            "Mounted at /content/gdrive\n"
          ]
        }
      ],
      "source": [
        "from google.colab import drive\n",
        "drive.mount(\"/content/gdrive\")"
      ]
    },
    {
      "cell_type": "code",
      "source": [
        "# Import plotting libraries\n",
        "import matplotlib \n",
        "from matplotlib import pyplot as plt\n",
        "matplotlib.rcParams.update({'font.size': 20})\n",
        "plt.rcParams.update({'font.size': 22})\n",
        "\n",
        "import keras\n",
        "from tensorflow.keras.models import Sequential\n",
        "from tensorflow.keras.layers import Dense\n",
        "from tensorflow.keras.wrappers.scikit_learn import KerasRegressor\n",
        "\n",
        "import numpy as np\n",
        "import pandas as pd\n",
        "from sklearn.model_selection import cross_val_score\n",
        "from sklearn.model_selection import KFold\n",
        "from sklearn.model_selection import train_test_split\n",
        "from sklearn.preprocessing import StandardScaler\n",
        "\n",
        "import tensorflow\n",
        "\n",
        "%load_ext autoreload\n",
        "%autoreload 2\n"
      ],
      "metadata": {
        "colab": {
          "base_uri": "https://localhost:8080/"
        },
        "id": "N0mkRCon3XHV",
        "outputId": "00b4ca36-94f5-414b-f7f0-ca2ef0ee281d"
      },
      "execution_count": 2,
      "outputs": [
        {
          "output_type": "stream",
          "name": "stdout",
          "text": [
            "2.8.0\n",
            "1.21.5\n"
          ]
        }
      ]
    },
    {
      "cell_type": "code",
      "source": [
        "\n",
        "data = pd.read_csv('/content/bg_struct.csv')\n",
        "X = data[['cell_length_a', 'cell_lentgh_b', 'cell_lentgh_c', 'cell_angle_alpha', 'cell_angle_beta', 'cell_angle_gamma']].values\n",
        "Y = data[['bandgap']].values"
      ],
      "metadata": {
        "id": "BF__-iHl3dPg"
      },
      "execution_count": 3,
      "outputs": []
    },
    {
      "cell_type": "code",
      "source": [
        ""
      ],
      "metadata": {
        "id": "EI_aLldj96mi"
      },
      "execution_count": null,
      "outputs": []
    },
    {
      "cell_type": "code",
      "source": [
        "seed = 12\n",
        "# create test/train split from the data above and  keep 20% for testing\n",
        "X_train_pn, X_test_pn, y_train, y_test = train_test_split(X, Y,\n",
        "                                                         test_size=0.1, \n",
        "                                                         random_state=seed)\n",
        "# train a standard scaler model to apply it to the train set and test set\n",
        "X_train_scaler = StandardScaler().fit(X_train_pn)\n",
        "X_train = X_train_scaler.transform(X_train_pn).astype(np.float32)\n",
        "X_test = X_train_scaler.transform(X_test_pn).astype(np.float32)\n"
      ],
      "metadata": {
        "id": "YdwCKnp13mG8"
      },
      "execution_count": 98,
      "outputs": []
    },
    {
      "cell_type": "code",
      "source": [
        "import torch\n",
        "import torch.nn as nn\n",
        "import torch.nn.functional as F\n",
        "x_data = torch.tensor(X_train)\n",
        "y_data = torch.tensor(y_train.astype(np.float32))\n",
        "\n",
        "x_val = torch.tensor(X_test)\n",
        "y_val = torch.tensor(y_test.astype(np.float32))"
      ],
      "metadata": {
        "id": "85yNaShr9tny"
      },
      "execution_count": 99,
      "outputs": []
    },
    {
      "cell_type": "code",
      "source": [
        ""
      ],
      "metadata": {
        "id": "2Af5ZYXO97Cb"
      },
      "execution_count": 24,
      "outputs": []
    },
    {
      "cell_type": "code",
      "source": [
        ""
      ],
      "metadata": {
        "id": "ZJmpKQ1997IL"
      },
      "execution_count": null,
      "outputs": []
    },
    {
      "cell_type": "code",
      "source": [
        "class Net(nn.Module):\n",
        "    def __init__(self, input_size):\n",
        "      super(Net, self).__init__()\n",
        "      self.fc1 = nn.Linear(input_size, 32)\n",
        "      self.fc2 = nn.Linear(32, 16)\n",
        "      self.fc3 = nn.Linear(16, 16)\n",
        "      self.fc4 = nn.Linear(16, 1)       \n",
        "      self.dropout1 = nn.Dropout(p=0.1)\n",
        "\n",
        "    def forward(self, x):\n",
        "      x = self.fc1(x)\n",
        "      x = F.logsigmoid(x)#F.relu(x)\n",
        "      x = self.fc2(x)\n",
        "      x = self.fc3(x)\n",
        "      x = F.relu(x)\n",
        "      x = self.fc4(x)\n",
        "\n",
        "      return x\n"
      ],
      "metadata": {
        "id": "C7H4NbuV4cCg"
      },
      "execution_count": 138,
      "outputs": []
    },
    {
      "cell_type": "code",
      "source": [
        "my_nn = Net(6)\n",
        "loss_fn = nn.MSELoss()\n",
        "epoch_loss = []\n",
        "model = my_nn\n",
        "learning_rate = 0.02\n",
        "optimizer = torch.optim.RMSprop(model.parameters(), lr=learning_rate, momentum=0.7)\n",
        "for t in range(2000):\n",
        "    y_pred = model(x_data)\n",
        "    loss = loss_fn(y_pred, y_data)\n",
        "    epoch_loss.append(loss.item())\n",
        "    if t % 100 == 99:\n",
        "        print(t, loss.item())\n",
        "    optimizer.zero_grad()\n",
        "    loss.backward()\n",
        "    optimizer.step()\n",
        "\n",
        "\n",
        "val_result = my_nn(x_val)\n",
        "print(\"curr validation accuracy is=\", str(1 - LA.norm(y_val-val_result)/LA.norm(y_val)))"
      ],
      "metadata": {
        "colab": {
          "base_uri": "https://localhost:8080/"
        },
        "id": "beS9TF9e9nhg",
        "outputId": "36ee3ffb-6279-437b-e5dc-a1b1a3d90927"
      },
      "execution_count": 139,
      "outputs": [
        {
          "output_type": "stream",
          "name": "stdout",
          "text": [
            "99 0.1393709033727646\n",
            "199 0.13919632136821747\n",
            "299 0.13919632136821747\n",
            "399 0.13919632136821747\n",
            "499 0.13919632136821747\n",
            "599 0.13919632136821747\n",
            "699 0.13919632136821747\n",
            "799 0.13919632136821747\n",
            "899 0.13919632136821747\n",
            "999 0.13919632136821747\n",
            "1099 0.13919632136821747\n",
            "1199 0.13919630646705627\n",
            "1299 0.139212504029274\n",
            "1399 0.13919635117053986\n",
            "1499 0.13922296464443207\n",
            "1599 0.13919632136821747\n",
            "1699 0.13919633626937866\n",
            "1799 0.13920500874519348\n",
            "1899 0.1391972005367279\n",
            "1999 0.13919632136821747\n",
            "curr validation accuracy is= tensor(0.8475, grad_fn=<RsubBackward1>)\n"
          ]
        }
      ]
    },
    {
      "cell_type": "code",
      "source": [
        ""
      ],
      "metadata": {
        "id": "_87fWv_QT0NM"
      },
      "execution_count": 115,
      "outputs": []
    },
    {
      "cell_type": "code",
      "source": [
        "plt.plot(epoch_loss[10:])"
      ],
      "metadata": {
        "colab": {
          "base_uri": "https://localhost:8080/",
          "height": 292
        },
        "id": "ZWN0mcyA_YSh",
        "outputId": "0c151911-2a71-4967-bcc1-368246983e85"
      },
      "execution_count": 140,
      "outputs": [
        {
          "output_type": "execute_result",
          "data": {
            "text/plain": [
              "[<matplotlib.lines.Line2D at 0x7ff0bdae3490>]"
            ]
          },
          "metadata": {},
          "execution_count": 140
        },
        {
          "output_type": "display_data",
          "data": {
            "image/png": "[encoded data removed]",
            "text/plain": [
              "<Figure size 432x288 with 1 Axes>"
            ]
          },
          "metadata": {
            "needs_background": "light"
          }
        }
      ]
    },
    {
      "cell_type": "code",
      "source": [
        "from torch import linalg as LA\n"
      ],
      "metadata": {
        "colab": {
          "base_uri": "https://localhost:8080/"
        },
        "id": "dnAJcGIK-oVk",
        "outputId": "66ee083c-b4c9-4cf5-fc4d-d4285670c651"
      },
      "execution_count": 50,
      "outputs": [
        {
          "output_type": "execute_result",
          "data": {
            "text/plain": [
              "tensor(98.9737)"
            ]
          },
          "metadata": {},
          "execution_count": 50
        }
      ]
    },
    {
      "cell_type": "code",
      "source": [
        "loss_fn(y_val, torch.zeros_like(y_val))"
      ],
      "metadata": {
        "colab": {
          "base_uri": "https://localhost:8080/"
        },
        "id": "8cyVwrRdE561",
        "outputId": "751aac75-bf8b-47e8-cdc4-7026c8db8165"
      },
      "execution_count": 51,
      "outputs": [
        {
          "output_type": "execute_result",
          "data": {
            "text/plain": [
              "tensor(5.9950)"
            ]
          },
          "metadata": {},
          "execution_count": 51
        }
      ]
    },
    {
      "cell_type": "code",
      "source": [
        ""
      ],
      "metadata": {
        "id": "cKR756_i3qMd"
      },
      "execution_count": 42,
      "outputs": []
    }
  ]
}