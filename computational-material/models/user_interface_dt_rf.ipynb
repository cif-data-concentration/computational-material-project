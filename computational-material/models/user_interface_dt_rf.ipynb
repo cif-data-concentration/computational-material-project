{
 "cells": [
  {
   "cell_type": "markdown",
   "id": "21d1e315",
   "metadata": {},
   "source": [
    "### Introduction"
   ]
  },
  {
   "cell_type": "markdown",
   "id": "64b11366",
   "metadata": {},
   "source": [
    "This notebook shows an user interface to let users get the predicted bandgap value or they can get the crystal lattice parameter a. We provide two machine learning methods to predict the bandgap, users can enter the crystal lattice parameters and choose the machine learning methods they wanna use to output the bandgap."
   ]
  },
  {
   "cell_type": "code",
   "execution_count": 58,
   "id": "03f9b1d2",
   "metadata": {},
   "outputs": [],
   "source": [
    "import numpy as np\n",
    "import pandas as pd\n",
    "\n",
    "import sklearn \n",
    "from sklearn.tree import DecisionTreeRegressor\n",
    "from sklearn.ensemble import RandomForestRegressor\n",
    "from sklearn.model_selection import train_test_split\n",
    "from sklearn.metrics import r2_score, mean_squared_error, accuracy_score\n",
    "\n",
    "# Import plotting libraries\n",
    "import seaborn as sns\n",
    "import matplotlib \n",
    "from matplotlib import pyplot as plt\n",
    "import sklearn.model_selection\n",
    "import sklearn.preprocessing\n",
    "import torch\n",
    "import torch.nn as nn\n",
    "import torch.nn.functional as F\n",
    "\n",
    "#user interface\n",
    "import gradio as gr\n",
    "\n",
    "import keras\n",
    "import tensorflow\n",
    "from tensorflow.keras.models import Sequential\n",
    "from tensorflow.keras.layers import Dense\n",
    "from tensorflow.keras.wrappers.scikit_learn import KerasRegressor\n",
    "from sklearn.preprocessing import StandardScaler"
   ]
  },
  {
   "cell_type": "markdown",
   "id": "597636ca",
   "metadata": {},
   "source": [
    "### Load data"
   ]
  },
  {
   "cell_type": "code",
   "execution_count": 9,
   "id": "36989eb4",
   "metadata": {},
   "outputs": [],
   "source": [
    "df = pd.read_csv('../../doc/dataset/bg_struct.csv', index_col=0)"
   ]
  },
  {
   "cell_type": "code",
   "execution_count": 10,
   "id": "aa0c2243",
   "metadata": {
    "scrolled": true
   },
   "outputs": [
    {
     "data": {
      "text/html": [
       "<div>\n",
       "<style scoped>\n",
       "    .dataframe tbody tr th:only-of-type {\n",
       "        vertical-align: middle;\n",
       "    }\n",
       "\n",
       "    .dataframe tbody tr th {\n",
       "        vertical-align: top;\n",
       "    }\n",
       "\n",
       "    .dataframe thead th {\n",
       "        text-align: right;\n",
       "    }\n",
       "</style>\n",
       "<table border=\"1\" class=\"dataframe\">\n",
       "  <thead>\n",
       "    <tr style=\"text-align: right;\">\n",
       "      <th></th>\n",
       "      <th>bandgap</th>\n",
       "      <th>cell_length_a</th>\n",
       "      <th>cell_lentgh_b</th>\n",
       "      <th>cell_lentgh_c</th>\n",
       "      <th>cell_angle_alpha</th>\n",
       "      <th>cell_angle_beta</th>\n",
       "      <th>cell_angle_gamma</th>\n",
       "    </tr>\n",
       "  </thead>\n",
       "  <tbody>\n",
       "    <tr>\n",
       "      <th>count</th>\n",
       "      <td>16335.000000</td>\n",
       "      <td>16335.000000</td>\n",
       "      <td>16335.000000</td>\n",
       "      <td>16335.000000</td>\n",
       "      <td>16335.000000</td>\n",
       "      <td>16335.000000</td>\n",
       "      <td>16335.000000</td>\n",
       "    </tr>\n",
       "    <tr>\n",
       "      <th>mean</th>\n",
       "      <td>2.413936</td>\n",
       "      <td>7.756010</td>\n",
       "      <td>8.213617</td>\n",
       "      <td>11.564255</td>\n",
       "      <td>84.577062</td>\n",
       "      <td>87.422030</td>\n",
       "      <td>87.855174</td>\n",
       "    </tr>\n",
       "    <tr>\n",
       "      <th>std</th>\n",
       "      <td>0.373129</td>\n",
       "      <td>3.181366</td>\n",
       "      <td>2.887233</td>\n",
       "      <td>9.437813</td>\n",
       "      <td>18.476919</td>\n",
       "      <td>16.642053</td>\n",
       "      <td>22.486535</td>\n",
       "    </tr>\n",
       "    <tr>\n",
       "      <th>min</th>\n",
       "      <td>1.800200</td>\n",
       "      <td>2.363000</td>\n",
       "      <td>2.363000</td>\n",
       "      <td>2.661370</td>\n",
       "      <td>5.200300</td>\n",
       "      <td>5.397478</td>\n",
       "      <td>5.397478</td>\n",
       "    </tr>\n",
       "    <tr>\n",
       "      <th>25%</th>\n",
       "      <td>2.088000</td>\n",
       "      <td>5.609011</td>\n",
       "      <td>6.203360</td>\n",
       "      <td>7.542867</td>\n",
       "      <td>74.139139</td>\n",
       "      <td>88.470574</td>\n",
       "      <td>86.084645</td>\n",
       "    </tr>\n",
       "    <tr>\n",
       "      <th>50%</th>\n",
       "      <td>2.389300</td>\n",
       "      <td>7.131163</td>\n",
       "      <td>7.760993</td>\n",
       "      <td>9.836234</td>\n",
       "      <td>90.000000</td>\n",
       "      <td>90.000000</td>\n",
       "      <td>90.000000</td>\n",
       "    </tr>\n",
       "    <tr>\n",
       "      <th>75%</th>\n",
       "      <td>2.728300</td>\n",
       "      <td>9.018695</td>\n",
       "      <td>9.606510</td>\n",
       "      <td>12.994967</td>\n",
       "      <td>90.000000</td>\n",
       "      <td>90.000000</td>\n",
       "      <td>91.056782</td>\n",
       "    </tr>\n",
       "    <tr>\n",
       "      <th>max</th>\n",
       "      <td>3.099700</td>\n",
       "      <td>38.477274</td>\n",
       "      <td>40.417878</td>\n",
       "      <td>211.425839</td>\n",
       "      <td>168.624134</td>\n",
       "      <td>168.624134</td>\n",
       "      <td>167.256937</td>\n",
       "    </tr>\n",
       "  </tbody>\n",
       "</table>\n",
       "</div>"
      ],
      "text/plain": [
       "            bandgap  cell_length_a  cell_lentgh_b  cell_lentgh_c  \\\n",
       "count  16335.000000   16335.000000   16335.000000   16335.000000   \n",
       "mean       2.413936       7.756010       8.213617      11.564255   \n",
       "std        0.373129       3.181366       2.887233       9.437813   \n",
       "min        1.800200       2.363000       2.363000       2.661370   \n",
       "25%        2.088000       5.609011       6.203360       7.542867   \n",
       "50%        2.389300       7.131163       7.760993       9.836234   \n",
       "75%        2.728300       9.018695       9.606510      12.994967   \n",
       "max        3.099700      38.477274      40.417878     211.425839   \n",
       "\n",
       "       cell_angle_alpha  cell_angle_beta  cell_angle_gamma  \n",
       "count      16335.000000     16335.000000      16335.000000  \n",
       "mean          84.577062        87.422030         87.855174  \n",
       "std           18.476919        16.642053         22.486535  \n",
       "min            5.200300         5.397478          5.397478  \n",
       "25%           74.139139        88.470574         86.084645  \n",
       "50%           90.000000        90.000000         90.000000  \n",
       "75%           90.000000        90.000000         91.056782  \n",
       "max          168.624134       168.624134        167.256937  "
      ]
     },
     "execution_count": 10,
     "metadata": {},
     "output_type": "execute_result"
    }
   ],
   "source": [
    "df.describe()"
   ]
  },
  {
   "cell_type": "markdown",
   "id": "65f349e5",
   "metadata": {},
   "source": [
    "#### Define x and y"
   ]
  },
  {
   "cell_type": "code",
   "execution_count": 11,
   "id": "a0fe3ef1",
   "metadata": {},
   "outputs": [],
   "source": [
    "X = df[['cell_length_a','cell_lentgh_b', 'cell_lentgh_c',\n",
    "        'cell_angle_alpha', 'cell_angle_beta', 'cell_angle_gamma']]\n",
    "y = df['bandgap']"
   ]
  },
  {
   "cell_type": "code",
   "execution_count": 12,
   "id": "0b9a7f50",
   "metadata": {},
   "outputs": [],
   "source": [
    "X_train, X_test, y_train, y_test = train_test_split(X, y, test_size=0.20, random_state=42)"
   ]
  },
  {
   "cell_type": "markdown",
   "id": "4e23a8f1",
   "metadata": {},
   "source": [
    "### Train the decision tree model to predict bandgap"
   ]
  },
  {
   "cell_type": "code",
   "execution_count": 13,
   "id": "44999bdc",
   "metadata": {},
   "outputs": [],
   "source": [
    "# Define the decision tree regressor object\n",
    "regr = DecisionTreeRegressor(max_depth=9, min_samples_split=37, min_samples_leaf=4,\n",
    "                             splitter='best', min_weight_fraction_leaf=0.00952179564895864)\n",
    "\n",
    "#Fit to the training data\n",
    "regr = regr.fit(X_train, y_train)"
   ]
  },
  {
   "cell_type": "markdown",
   "id": "7f747b38",
   "metadata": {},
   "source": [
    "### Train the random forest model to predict bandgap"
   ]
  },
  {
   "cell_type": "code",
   "execution_count": 14,
   "id": "1f960ec9",
   "metadata": {},
   "outputs": [],
   "source": [
    "# Define a random forest regressor object\n",
    "rand = RandomForestRegressor(n_estimators=99, max_depth=23, min_samples_split=14, \n",
    "                              min_samples_leaf=3, min_weight_fraction_leaf=2.9893745932052474e-05)\n",
    "\n",
    "# Fit to your training data\n",
    "rand = rand.fit(X_train, y_train)"
   ]
  },
  {
   "cell_type": "markdown",
   "id": "cd5f8e1b",
   "metadata": {},
   "source": [
    "### Use gradio to create user interface to show the predict bandgap value"
   ]
  },
  {
   "cell_type": "code",
   "execution_count": 65,
   "id": "22bf1eaf",
   "metadata": {
    "scrolled": true
   },
   "outputs": [
    {
     "name": "stdout",
     "output_type": "stream",
     "text": [
      "Running on local URL:  http://127.0.0.1:7882/\n",
      "\n",
      "To create a public link, set `share=True` in `launch()`.\n"
     ]
    },
    {
     "data": {
      "text/html": [
       "\n",
       "        <iframe\n",
       "            width=\"900\"\n",
       "            height=\"500\"\n",
       "            src=\"http://127.0.0.1:7882/\"\n",
       "            frameborder=\"0\"\n",
       "            allowfullscreen\n",
       "            \n",
       "        ></iframe>\n",
       "        "
      ],
      "text/plain": [
       "<IPython.lib.display.IFrame at 0x7fa295aa6810>"
      ]
     },
     "metadata": {},
     "output_type": "display_data"
    },
    {
     "data": {
      "text/plain": [
       "(<fastapi.applications.FastAPI at 0x7fa2b5a11750>,\n",
       " 'http://127.0.0.1:7882/',\n",
       " None)"
      ]
     },
     "execution_count": 65,
     "metadata": {},
     "output_type": "execute_result"
    }
   ],
   "source": [
    "def predict_bandgap(length_a, length_b, length_c, angle_alpha, angle_beta, angle_gamma, method):\n",
    "    # convert the crystal lattice constant to a list\n",
    "    test = [length_a, length_b, length_c, angle_alpha, angle_beta, angle_gamma]\n",
    "    # convert the list to the dataframe\n",
    "    test_point = pd.DataFrame([test], columns=['cell_length_a','cell_lentgh_b', 'cell_lentgh_c',\n",
    "                                             'cell_angle_alpha', 'cell_angle_beta', 'cell_angle_gamma'])\n",
    "    \n",
    "    if method=='Random Forest':\n",
    "        return rand.predict(test_point)[0]\n",
    "    elif method=='Decision Tree':\n",
    "        return regr.predict(test_point)[0]\n",
    "    \n",
    "    \n",
    "#create input and output objects\n",
    "#input object1\n",
    "input1 = gr.inputs.Textbox(placeholder='Enter Crystal Lattice Length a')\n",
    "input2 = gr.inputs.Textbox(placeholder='Enter Crystal Lattice Length b')\n",
    "input3 = gr.inputs.Textbox(placeholder='Enter Crystal Lattice Length c')\n",
    "input4 = gr.inputs.Textbox(placeholder='Enter Crystal Lattice Angle Alpha')\n",
    "input5 = gr.inputs.Textbox(placeholder='Enter Crystal Lattice Angle Beta')\n",
    "input6 = gr.inputs.Textbox(placeholder='Enter Crystal Lattice Angle Gamma')\n",
    "input7 = gr.inputs.Radio(['Random Forest', 'Decision Tree'])\n",
    "\n",
    "#output object\n",
    "output = gr.outputs.Textbox()\n",
    "\n",
    "#create interface\n",
    "gui = gr.Interface(fn=predict_bandgap,\n",
    "                  inputs=[input1,input2,input3,input4,input5,input6,input7],\n",
    "                  outputs=[output])\n",
    "gui.launch()"
   ]
  },
  {
   "cell_type": "markdown",
   "id": "73f94c7c",
   "metadata": {},
   "source": [
    "### Load data"
   ]
  },
  {
   "cell_type": "code",
   "execution_count": 49,
   "id": "cecac1f5",
   "metadata": {},
   "outputs": [],
   "source": [
    "X_nn = df[['cell_lentgh_b', 'cell_lentgh_c', 'cell_angle_alpha', 'cell_angle_beta', 'cell_angle_gamma']].values\n",
    "Y_nn = df[['cell_length_a']].values\n"
   ]
  },
  {
   "cell_type": "code",
   "execution_count": 50,
   "id": "88eb1888",
   "metadata": {},
   "outputs": [],
   "source": [
    "seed = 12\n",
    "# create test/train split from the data above and  keep 20% for testing\n",
    "X_train_pn, X_test_pn, y_train, y_test = train_test_split(X_nn, Y_nn,test_size=0.20, \n",
    "                                                          random_state=seed)"
   ]
  },
  {
   "cell_type": "markdown",
   "id": "928cc173",
   "metadata": {},
   "source": [
    "#### Normalize x and y value"
   ]
  },
  {
   "cell_type": "code",
   "execution_count": 51,
   "id": "ea64e01a",
   "metadata": {},
   "outputs": [],
   "source": [
    "# train a standard scaler model to apply it to the train set and test set\n",
    "X_train_scaler = StandardScaler().fit(X_train_pn)\n",
    "X_train_nn = X_train_scaler.transform(X_train_pn)\n",
    "X_test_nn = X_train_scaler.transform(X_test_pn)"
   ]
  },
  {
   "cell_type": "markdown",
   "id": "86e3c603",
   "metadata": {},
   "source": [
    "### Define the neural network model"
   ]
  },
  {
   "cell_type": "code",
   "execution_count": 52,
   "id": "d5ae4e01",
   "metadata": {},
   "outputs": [],
   "source": [
    "def neural_network_model(n1, n2, n3, act1, act2, act3, lr):\n",
    "        \"\"\"\n",
    "        activation: 'relu', 'sigmoid', 'linear', 'tanh', 'selu', 'elu'\n",
    "        \"\"\"\n",
    "        model = Sequential()\n",
    "        model.add(Dense(n1, input_dim=5, kernel_initializer='normal', activation=act1))\n",
    "        model.add(Dense(n2, kernel_initializer='normal', activation=act2))\n",
    "        model.add(Dense(n3, kernel_initializer='normal', activation=act3))\n",
    "        model.add(Dense(1, kernel_initializer='normal'))\n",
    "    \n",
    "        opt = tensorflow.keras.optimizers.Adam(learning_rate=lr)\n",
    "    \n",
    "        model.compile(loss='mean_squared_error', optimizer=opt)\n",
    "        return model\n"
   ]
  },
  {
   "cell_type": "code",
   "execution_count": 53,
   "id": "4ecca7a4",
   "metadata": {},
   "outputs": [],
   "source": [
    "def opt_nn_model():\n",
    "        np.random.seed(seed)\n",
    "        # Create the NN framework\n",
    "        estimator_opt = KerasRegressor(build_fn=neural_network_model, \n",
    "                                       n1=256, n2=512, n3=128,\n",
    "                                       act1=\"linear\", act2=\"sigmoid\", act3=\"sigmoid\", \n",
    "                                       epochs=150, batch_size=100, verbose=1, lr=0.001)\n",
    "        estimator_opt.fit(X_train_nn, y_train, validation_split=0.30, epochs=150, \n",
    "                          batch_size=100, verbose=0)\n",
    "        return estimator_opt\n"
   ]
  },
  {
   "cell_type": "markdown",
   "id": "20c66af7",
   "metadata": {},
   "source": [
    "### Create the user interface to predict crystal lattice parameter a"
   ]
  },
  {
   "cell_type": "code",
   "execution_count": 66,
   "id": "a1c4ae45",
   "metadata": {},
   "outputs": [
    {
     "name": "stdout",
     "output_type": "stream",
     "text": [
      "Running on local URL:  http://127.0.0.1:7883/\n",
      "\n",
      "To create a public link, set `share=True` in `launch()`.\n"
     ]
    },
    {
     "data": {
      "text/html": [
       "\n",
       "        <iframe\n",
       "            width=\"900\"\n",
       "            height=\"500\"\n",
       "            src=\"http://127.0.0.1:7883/\"\n",
       "            frameborder=\"0\"\n",
       "            allowfullscreen\n",
       "            \n",
       "        ></iframe>\n",
       "        "
      ],
      "text/plain": [
       "<IPython.lib.display.IFrame at 0x7fa295ab5a90>"
      ]
     },
     "metadata": {},
     "output_type": "display_data"
    },
    {
     "data": {
      "text/plain": [
       "(<fastapi.applications.FastAPI at 0x7fa2b5a11750>,\n",
       " 'http://127.0.0.1:7883/',\n",
       " None)"
      ]
     },
     "execution_count": 66,
     "metadata": {},
     "output_type": "execute_result"
    }
   ],
   "source": [
    "def predict_bandgap_nn(length_b, length_c, angle_alpha, angle_beta, angle_gamma):\n",
    "    # convert the crystal lattice constant to a list\n",
    "    test = [length_b, length_c, angle_alpha, angle_beta, angle_gamma]\n",
    "    # convert the list to the dataframe\n",
    "    test_point = pd.DataFrame([test], columns=['cell_lentgh_b', 'cell_lentgh_c',\n",
    "                                             'cell_angle_alpha', 'cell_angle_beta', 'cell_angle_gamma'])\n",
    "    X_train_scaler = StandardScaler().fit(X_train_pn)\n",
    "    test_point_norm = X_train_scaler.transform(test_point)\n",
    "    return model.predict(test_point_norm.values)\n",
    "    \n",
    "    \n",
    "#create input and output objects\n",
    "#input object1\n",
    "input2 = gr.inputs.Textbox(placeholder='Enter Crystal Lattice Length b')\n",
    "input3 = gr.inputs.Textbox(placeholder='Enter Crystal Lattice Length c')\n",
    "input4 = gr.inputs.Textbox(placeholder='Enter Crystal Lattice Angle Alpha')\n",
    "input5 = gr.inputs.Textbox(placeholder='Enter Crystal Lattice Angle Beta')\n",
    "input6 = gr.inputs.Textbox(placeholder='Enter Crystal Lattice Angle Gamma')\n",
    "\n",
    "#output object\n",
    "output = gr.outputs.Textbox()\n",
    "\n",
    "#create interface\n",
    "gui = gr.Interface(fn=predict_bandgap_nn,\n",
    "                  inputs=[input2,input3,input4,input5,input6],\n",
    "                  outputs=[output])\n",
    "gui.launch()"
   ]
  },
  {
   "cell_type": "code",
   "execution_count": null,
   "id": "c6c87590",
   "metadata": {},
   "outputs": [],
   "source": []
  }
 ],
 "metadata": {
  "kernelspec": {
   "display_name": "Python 3 (ipykernel)",
   "language": "python",
   "name": "python3"
  },
  "language_info": {
   "codemirror_mode": {
    "name": "ipython",
    "version": 3
   },
   "file_extension": ".py",
   "mimetype": "text/x-python",
   "name": "python",
   "nbconvert_exporter": "python",
   "pygments_lexer": "ipython3",
   "version": "3.7.11"
  }
 },
 "nbformat": 4,
 "nbformat_minor": 5
}
