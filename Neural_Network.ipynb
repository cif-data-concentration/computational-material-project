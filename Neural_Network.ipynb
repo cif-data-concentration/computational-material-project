{
 "cells": [
  {
   "cell_type": "code",
   "execution_count": 1,
   "metadata": {},
   "outputs": [
    {
     "name": "stderr",
     "output_type": "stream",
     "text": [
      "Using TensorFlow backend.\n"
     ]
    },
    {
     "name": "stdout",
     "output_type": "stream",
     "text": [
      "2.3.1\n",
      "1.21.2\n"
     ]
    }
   ],
   "source": [
    "# Import plotting libraries\n",
    "import matplotlib \n",
    "from matplotlib import pyplot as plt\n",
    "matplotlib.rcParams.update({'font.size': 20})\n",
    "plt.rcParams.update({'font.size': 22})\n",
    "\n",
    "import keras\n",
    "from tensorflow.keras.models import Sequential\n",
    "from tensorflow.keras.layers import Dense\n",
    "from tensorflow.keras.wrappers.scikit_learn import KerasRegressor\n",
    "\n",
    "print(keras.__version__)\n",
    "import numpy as np\n",
    "\n",
    "print(np.__version__)\n",
    "import pandas as pd\n",
    "from sklearn.model_selection import cross_val_score\n",
    "from sklearn.model_selection import KFold\n",
    "from sklearn.model_selection import train_test_split\n",
    "from sklearn.preprocessing import StandardScaler\n",
    "\n",
    "import tensorflow\n",
    "\n",
    "%load_ext autoreload\n",
    "%autoreload 2\n"
   ]
  },
  {
   "cell_type": "code",
   "execution_count": 2,
   "metadata": {},
   "outputs": [],
   "source": [
    "seed = 12"
   ]
  },
  {
   "cell_type": "code",
   "execution_count": 3,
   "metadata": {},
   "outputs": [],
   "source": [
    "data = pd.read_csv('bg_struct.csv')"
   ]
  },
  {
   "cell_type": "code",
   "execution_count": 4,
   "metadata": {},
   "outputs": [
    {
     "data": {
      "text/html": [
       "<div>\n",
       "<style scoped>\n",
       "    .dataframe tbody tr th:only-of-type {\n",
       "        vertical-align: middle;\n",
       "    }\n",
       "\n",
       "    .dataframe tbody tr th {\n",
       "        vertical-align: top;\n",
       "    }\n",
       "\n",
       "    .dataframe thead th {\n",
       "        text-align: right;\n",
       "    }\n",
       "</style>\n",
       "<table border=\"1\" class=\"dataframe\">\n",
       "  <thead>\n",
       "    <tr style=\"text-align: right;\">\n",
       "      <th></th>\n",
       "      <th>Unnamed: 0</th>\n",
       "      <th>pretty_formula</th>\n",
       "      <th>bandgap</th>\n",
       "      <th>cell_length_a</th>\n",
       "      <th>cell_lentgh_b</th>\n",
       "      <th>cell_lentgh_c</th>\n",
       "      <th>cell_angle_alpha</th>\n",
       "      <th>cell_angle_beta</th>\n",
       "      <th>cell_angle_gamma</th>\n",
       "    </tr>\n",
       "  </thead>\n",
       "  <tbody>\n",
       "    <tr>\n",
       "      <th>0</th>\n",
       "      <td>0</td>\n",
       "      <td>BrCl</td>\n",
       "      <td>1.8278</td>\n",
       "      <td>4.645947</td>\n",
       "      <td>4.645947</td>\n",
       "      <td>7.810701</td>\n",
       "      <td>90.000000</td>\n",
       "      <td>90.000000</td>\n",
       "      <td>115.948189</td>\n",
       "    </tr>\n",
       "    <tr>\n",
       "      <th>1</th>\n",
       "      <td>1</td>\n",
       "      <td>SrC2</td>\n",
       "      <td>1.8008</td>\n",
       "      <td>3.710786</td>\n",
       "      <td>3.710786</td>\n",
       "      <td>3.710785</td>\n",
       "      <td>85.434482</td>\n",
       "      <td>85.434482</td>\n",
       "      <td>85.434493</td>\n",
       "    </tr>\n",
       "    <tr>\n",
       "      <th>2</th>\n",
       "      <td>2</td>\n",
       "      <td>Cs2Se</td>\n",
       "      <td>1.8027</td>\n",
       "      <td>5.624158</td>\n",
       "      <td>9.095804</td>\n",
       "      <td>10.998913</td>\n",
       "      <td>90.000000</td>\n",
       "      <td>90.000000</td>\n",
       "      <td>90.000000</td>\n",
       "    </tr>\n",
       "    <tr>\n",
       "      <th>3</th>\n",
       "      <td>3</td>\n",
       "      <td>Cs2Se</td>\n",
       "      <td>1.8141</td>\n",
       "      <td>9.136351</td>\n",
       "      <td>5.630188</td>\n",
       "      <td>12.173633</td>\n",
       "      <td>63.874547</td>\n",
       "      <td>90.000000</td>\n",
       "      <td>90.000000</td>\n",
       "    </tr>\n",
       "    <tr>\n",
       "      <th>4</th>\n",
       "      <td>4</td>\n",
       "      <td>CsPbBr3</td>\n",
       "      <td>1.8178</td>\n",
       "      <td>8.459612</td>\n",
       "      <td>8.459612</td>\n",
       "      <td>8.459612</td>\n",
       "      <td>120.097716</td>\n",
       "      <td>120.097716</td>\n",
       "      <td>89.830834</td>\n",
       "    </tr>\n",
       "  </tbody>\n",
       "</table>\n",
       "</div>"
      ],
      "text/plain": [
       "   Unnamed: 0 pretty_formula  bandgap  cell_length_a  cell_lentgh_b  \\\n",
       "0           0           BrCl   1.8278       4.645947       4.645947   \n",
       "1           1           SrC2   1.8008       3.710786       3.710786   \n",
       "2           2          Cs2Se   1.8027       5.624158       9.095804   \n",
       "3           3          Cs2Se   1.8141       9.136351       5.630188   \n",
       "4           4        CsPbBr3   1.8178       8.459612       8.459612   \n",
       "\n",
       "   cell_lentgh_c  cell_angle_alpha  cell_angle_beta  cell_angle_gamma  \n",
       "0       7.810701         90.000000        90.000000        115.948189  \n",
       "1       3.710785         85.434482        85.434482         85.434493  \n",
       "2      10.998913         90.000000        90.000000         90.000000  \n",
       "3      12.173633         63.874547        90.000000         90.000000  \n",
       "4       8.459612        120.097716       120.097716         89.830834  "
      ]
     },
     "execution_count": 4,
     "metadata": {},
     "output_type": "execute_result"
    }
   ],
   "source": [
    "data.head()"
   ]
  },
  {
   "cell_type": "code",
   "execution_count": 5,
   "metadata": {},
   "outputs": [
    {
     "data": {
      "text/plain": [
       "(16335, 9)"
      ]
     },
     "execution_count": 5,
     "metadata": {},
     "output_type": "execute_result"
    }
   ],
   "source": [
    "data.shape"
   ]
  },
  {
   "cell_type": "code",
   "execution_count": 6,
   "metadata": {},
   "outputs": [],
   "source": [
    "X = data[['cell_length_a', 'cell_lentgh_b', 'cell_lentgh_c', 'cell_angle_alpha', 'cell_angle_beta', 'cell_angle_gamma']].values\n",
    "Y = data[['bandgap']].values"
   ]
  },
  {
   "cell_type": "code",
   "execution_count": 7,
   "metadata": {},
   "outputs": [],
   "source": [
    "# create test/train split from the data above and  keep 20% for testing\n",
    "X_train_pn, X_test_pn, y_train, y_test = train_test_split(X, Y,\n",
    "                                                         test_size=0.20, \n",
    "                                                         random_state=seed)\n",
    "\n",
    "# train a standard scaler model to apply it to the train set and test set\n",
    "X_train_scaler = StandardScaler().fit(X_train_pn)\n",
    "X_train = X_train_scaler.transform(X_train_pn)\n",
    "X_test = X_train_scaler.transform(X_test_pn)\n"
   ]
  },
  {
   "cell_type": "markdown",
   "metadata": {},
   "source": [
    "### Create a neural network model"
   ]
  },
  {
   "cell_type": "code",
   "execution_count": null,
   "metadata": {},
   "outputs": [],
   "source": [
    "def neural_network_model(n1, n2, act1, act2, lr):\n",
    "    \"\"\"\n",
    "    activation: 'relu', 'sigmoid', 'linear', 'tanh', 'selu', 'elu'\n",
    "    \"\"\"\n",
    "    model = Sequential()\n",
    "    model.add(Dense(n1, input_dim=6, kernel_initializer='normal', activation=act1))\n",
    "    model.add(Dense(n2, kernel_initializer='normal', activation=act2))\n",
    "    model.add(Dense(1, kernel_initializer='normal'))\n",
    "    \n",
    "    opt = tensorflow.keras.optimizers.Adam(learning_rate=lr)\n",
    "    \n",
    "    model.compile(loss='mean_squared_error', optimizer=opt)\n",
    "    return model"
   ]
  },
  {
   "cell_type": "code",
   "execution_count": 12,
   "metadata": {},
   "outputs": [
    {
     "name": "stdout",
     "output_type": "stream",
     "text": [
      "Final MSE for train is 3.956e+00 and for validation is 3.969e+00\n"
     ]
    }
   ],
   "source": [
    "np.random.seed(seed)\n",
    "# Create the NN framework\n",
    "estimator = KerasRegressor(build_fn=neural_network_model, \n",
    "                           n1=60, n2=50, act1='relu', act2='linear', \n",
    "                           epochs=150, batch_size=10000, verbose=0, lr=0.9)\n",
    "# Fit to training data\n",
    "history = estimator.fit(X_train, y_train, validation_split=0.30, epochs=150, \n",
    "        batch_size=10000, verbose=0)\n",
    "\n",
    "print(\"Final MSE for train is %.3e and for validation is %.3e\" % \n",
    "      (history.history['loss'][-1], history.history['val_loss'][-1]))"
   ]
  },
  {
   "cell_type": "code",
   "execution_count": 10,
   "metadata": {},
   "outputs": [],
   "source": [
    "def neural_network_model(n1, n2, act1, act2, lr):\n",
    "    \"\"\"\n",
    "    activation: 'relu', 'sigmoid', 'linear', 'tanh', 'selu', 'elu'\n",
    "    \"\"\"\n",
    "    model = Sequential()\n",
    "    model.add(Dense(n1, input_dim=6, kernel_initializer='normal', activation=act1))\n",
    "    model.add(Dense(n2, kernel_initializer='normal', activation=act2))\n",
    "    model.add(Dense(1, kernel_initializer='normal'))\n",
    "    \n",
    "    opt = tensorflow.keras.optimizers.Adam(learning_rate=lr)\n",
    "    \n",
    "    model.compile(loss='mean_squared_error', optimizer=opt)\n",
    "    return model"
   ]
  },
  {
   "cell_type": "code",
   "execution_count": 11,
   "metadata": {},
   "outputs": [
    {
     "name": "stderr",
     "output_type": "stream",
     "text": [
      "2022-03-06 23:05:09.290067: I tensorflow/compiler/jit/xla_cpu_device.cc:41] Not creating XLA devices, tf_xla_enable_xla_devices not set\n",
      "2022-03-06 23:05:09.290662: I tensorflow/core/platform/cpu_feature_guard.cc:142] This TensorFlow binary is optimized with oneAPI Deep Neural Network Library (oneDNN) to use the following CPU instructions in performance-critical operations:  SSE4.1 SSE4.2 AVX AVX2 FMA\n",
      "To enable them in other operations, rebuild TensorFlow with the appropriate compiler flags.\n",
      "2022-03-06 23:05:09.295322: I tensorflow/core/common_runtime/process_util.cc:146] Creating new thread pool with default inter op setting: 2. Tune using inter_op_parallelism_threads for best performance.\n",
      "2022-03-06 23:05:09.366173: I tensorflow/compiler/mlir/mlir_graph_optimization_pass.cc:116] None of the MLIR optimization passes are enabled (registered 2)\n",
      "2022-03-06 23:05:09.367728: I tensorflow/core/platform/profile_utils/cpu_utils.cc:112] CPU Frequency: 3193885000 Hz\n"
     ]
    },
    {
     "name": "stdout",
     "output_type": "stream",
     "text": [
      "Final MSE for train is 5.928e+00 and for validation is 5.854e+00\n",
      "103/103 [==============================] - 0s 4ms/step - loss: 5.8832\n",
      "Final MSE for train is 4.871e+00 and for validation is 4.794e+00\n",
      "103/103 [==============================] - 0s 2ms/step - loss: 4.8180\n",
      "Final MSE for train is 1.370e-01 and for validation is 1.411e-01\n",
      "103/103 [==============================] - 0s 4ms/step - loss: 0.1381\n",
      "Final MSE for train is 1.372e-01 and for validation is 1.414e-01\n",
      "103/103 [==============================] - 0s 2ms/step - loss: 0.1389\n",
      "Final MSE for train is 1.221e+00 and for validation is 4.318e+01\n",
      "103/103 [==============================] - 0s 2ms/step - loss: 2.5751\n"
     ]
    }
   ],
   "source": [
    "np.random.seed(seed)\n",
    "\n",
    "MSE = []\n",
    "lr_vals = [0.00001, 0.0001, 0.01, 0.1, 1.0]\n",
    "for lrate in lr_vals:\n",
    "    estimator = KerasRegressor(build_fn=neural_network_model,\n",
    "                               n1=60, n2=50, act1='relu', act2='linear', \n",
    "                               epochs=150, batch_size=10000, \n",
    "                               verbose=0, lr=lrate)\n",
    "    history = estimator.fit(X_train, y_train, validation_split=0.30,\n",
    "                            epochs=150, batch_size=10000, \n",
    "                            verbose=0)\n",
    "    print(\"Final MSE for train is %.3e and for validation is %.3e\" % \n",
    "      (history.history['loss'][-1], history.history['val_loss'][-1]))\n",
    "    MSE.append([history.history['loss'][-1], \n",
    "                history.history['val_loss'][-1],\n",
    "                estimator.model.evaluate(X_test, y_test)])"
   ]
  },
  {
   "cell_type": "code",
   "execution_count": null,
   "metadata": {},
   "outputs": [],
   "source": []
  }
 ],
 "metadata": {
  "kernelspec": {
   "display_name": "Python 3",
   "language": "python",
   "name": "python3"
  },
  "language_info": {
   "codemirror_mode": {
    "name": "ipython",
    "version": 3
   },
   "file_extension": ".py",
   "mimetype": "text/x-python",
   "name": "python",
   "nbconvert_exporter": "python",
   "pygments_lexer": "ipython3",
   "version": "3.8.3"
  }
 },
 "nbformat": 4,
 "nbformat_minor": 5
}
